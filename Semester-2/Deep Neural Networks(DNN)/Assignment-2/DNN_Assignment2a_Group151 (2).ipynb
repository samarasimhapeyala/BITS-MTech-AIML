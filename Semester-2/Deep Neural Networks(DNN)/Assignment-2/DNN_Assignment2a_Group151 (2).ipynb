{
 "cells": [
  {
   "cell_type": "markdown",
   "id": "9bda93ba",
   "metadata": {
    "id": "9bda93ba"
   },
   "source": [
    "## Group No :151\n",
    "\n",
    "## Group Member Names:\n",
    "\n",
    " 1. Peyala Samarasimha Reddy - 2023AA05072 100% Contribution\n",
    " 2. Monisha G - 2023AA05536 100% Contribution\n",
    " 3. Akshay Mohan - 2023AA05315 100% Contribution\n",
    " 4. Sreelakshmi Ajith - 2023AA05316 100% Contribution\n",
    "\n",
    "## Journal used for the implemetation\n",
    "Journal title:  Traffic Flow Prediction\n",
    "\n",
    "Authors: Zhene Zou, Hao Peng, Lin Liu, Guixi Xiong, Bowen Du,Md Zakir ul Alam Bhuiyan, Yuntao Long, DaLi\n",
    "\n",
    "Journal Name: Deep Convolutional Mesh RNN for Urban Traffic Passenger Flows Prediction\n",
    "\n",
    "Year: 2018\n",
    "\n",
    "Model Type: Regression Task"
   ]
  },
  {
   "cell_type": "markdown",
   "id": "0c7f7028",
   "metadata": {
    "id": "0c7f7028"
   },
   "source": [
    "# 1. Import the required libraries"
   ]
  },
  {
   "cell_type": "code",
   "execution_count": 1,
   "id": "1a096390",
   "metadata": {
    "id": "1a096390"
   },
   "outputs": [
    {
     "name": "stderr",
     "output_type": "stream",
     "text": [
      "2024-09-22 16:08:25.115545: I tensorflow/core/util/port.cc:153] oneDNN custom operations are on. You may see slightly different numerical results due to floating-point round-off errors from different computation orders. To turn them off, set the environment variable `TF_ENABLE_ONEDNN_OPTS=0`.\n",
      "2024-09-22 16:08:25.123257: E external/local_xla/xla/stream_executor/cuda/cuda_fft.cc:485] Unable to register cuFFT factory: Attempting to register factory for plugin cuFFT when one has already been registered\n",
      "2024-09-22 16:08:25.132053: E external/local_xla/xla/stream_executor/cuda/cuda_dnn.cc:8454] Unable to register cuDNN factory: Attempting to register factory for plugin cuDNN when one has already been registered\n",
      "2024-09-22 16:08:25.134673: E external/local_xla/xla/stream_executor/cuda/cuda_blas.cc:1452] Unable to register cuBLAS factory: Attempting to register factory for plugin cuBLAS when one has already been registered\n",
      "2024-09-22 16:08:25.141199: I tensorflow/core/platform/cpu_feature_guard.cc:210] This TensorFlow binary is optimized to use available CPU instructions in performance-critical operations.\n",
      "To enable the following instructions: AVX2 AVX_VNNI FMA, in other operations, rebuild TensorFlow with the appropriate compiler flags.\n",
      "2024-09-22 16:08:25.593776: W tensorflow/compiler/tf2tensorrt/utils/py_utils.cc:38] TF-TRT Warning: Could not find TensorRT\n"
     ]
    }
   ],
   "source": [
    "##---------Type the code below this line------------------##\n",
    "import pandas as pd\n",
    "import numpy as np\n",
    "import tensorflow as tf\n",
    "from tensorflow.keras.layers import Input, Conv1D, Conv2D, BatchNormalization, Flatten, LSTM, Dense, Add, Reshape\n",
    "from tensorflow.keras.models import Model\n",
    "from sklearn.model_selection import train_test_split\n",
    "from sklearn.preprocessing import MinMaxScaler\n",
    "from sklearn.metrics import mean_squared_error, confusion_matrix, classification_report\n",
    "import matplotlib.pyplot as plt\n"
   ]
  },
  {
   "cell_type": "markdown",
   "id": "3cc8e0cb",
   "metadata": {
    "id": "3cc8e0cb"
   },
   "source": [
    "# 2. Data Acquisition\n",
    "\n",
    "For the problem identified by you, students have to find the data source themselves from any data source.\n",
    "\n",
    "Provide the URL of the data used.\n",
    "\n",
    "Write Code for converting the above downloaded data into a form suitable for DL\n",
    "\n"
   ]
  },
  {
   "cell_type": "markdown",
   "id": "bb1bbbfc",
   "metadata": {},
   "source": [
    "Dataset is downloaded from here https://www.kaggle.com/datasets/akkithetechie/new-york-city-bike-share-dataset"
   ]
  },
  {
   "cell_type": "code",
   "execution_count": 2,
   "id": "4b51d895",
   "metadata": {
    "id": "4b51d895"
   },
   "outputs": [
    {
     "data": {
      "text/html": [
       "<div>\n",
       "<style scoped>\n",
       "    .dataframe tbody tr th:only-of-type {\n",
       "        vertical-align: middle;\n",
       "    }\n",
       "\n",
       "    .dataframe tbody tr th {\n",
       "        vertical-align: top;\n",
       "    }\n",
       "\n",
       "    .dataframe thead th {\n",
       "        text-align: right;\n",
       "    }\n",
       "</style>\n",
       "<table border=\"1\" class=\"dataframe\">\n",
       "  <thead>\n",
       "    <tr style=\"text-align: right;\">\n",
       "      <th></th>\n",
       "      <th>Unnamed: 0</th>\n",
       "      <th>Trip Duration</th>\n",
       "      <th>Start Time</th>\n",
       "      <th>Stop Time</th>\n",
       "      <th>Start Station ID</th>\n",
       "      <th>Start Station Name</th>\n",
       "      <th>Start Station Latitude</th>\n",
       "      <th>Start Station Longitude</th>\n",
       "      <th>End Station ID</th>\n",
       "      <th>End Station Name</th>\n",
       "      <th>End Station Latitude</th>\n",
       "      <th>End Station Longitude</th>\n",
       "      <th>Bike ID</th>\n",
       "      <th>User Type</th>\n",
       "      <th>Birth Year</th>\n",
       "      <th>Gender</th>\n",
       "      <th>Trip_Duration_in_min</th>\n",
       "    </tr>\n",
       "  </thead>\n",
       "  <tbody>\n",
       "    <tr>\n",
       "      <th>0</th>\n",
       "      <td>0</td>\n",
       "      <td>376</td>\n",
       "      <td>2015-10-01 00:16:26</td>\n",
       "      <td>2015-10-01 00:22:42</td>\n",
       "      <td>3212</td>\n",
       "      <td>Christ Hospital</td>\n",
       "      <td>40.734786</td>\n",
       "      <td>-74.050444</td>\n",
       "      <td>3207</td>\n",
       "      <td>Oakland Ave</td>\n",
       "      <td>40.737604</td>\n",
       "      <td>-74.052478</td>\n",
       "      <td>24470</td>\n",
       "      <td>Subscriber</td>\n",
       "      <td>1960.0</td>\n",
       "      <td>1</td>\n",
       "      <td>6</td>\n",
       "    </tr>\n",
       "    <tr>\n",
       "      <th>1</th>\n",
       "      <td>1</td>\n",
       "      <td>739</td>\n",
       "      <td>2015-10-01 00:27:12</td>\n",
       "      <td>2015-10-01 00:39:32</td>\n",
       "      <td>3207</td>\n",
       "      <td>Oakland Ave</td>\n",
       "      <td>40.737604</td>\n",
       "      <td>-74.052478</td>\n",
       "      <td>3212</td>\n",
       "      <td>Christ Hospital</td>\n",
       "      <td>40.734786</td>\n",
       "      <td>-74.050444</td>\n",
       "      <td>24481</td>\n",
       "      <td>Subscriber</td>\n",
       "      <td>1960.0</td>\n",
       "      <td>1</td>\n",
       "      <td>12</td>\n",
       "    </tr>\n",
       "    <tr>\n",
       "      <th>2</th>\n",
       "      <td>2</td>\n",
       "      <td>2714</td>\n",
       "      <td>2015-10-01 00:32:46</td>\n",
       "      <td>2015-10-01 01:18:01</td>\n",
       "      <td>3193</td>\n",
       "      <td>Lincoln Park</td>\n",
       "      <td>40.724605</td>\n",
       "      <td>-74.078406</td>\n",
       "      <td>3193</td>\n",
       "      <td>Lincoln Park</td>\n",
       "      <td>40.724605</td>\n",
       "      <td>-74.078406</td>\n",
       "      <td>24628</td>\n",
       "      <td>Subscriber</td>\n",
       "      <td>1983.0</td>\n",
       "      <td>1</td>\n",
       "      <td>45</td>\n",
       "    </tr>\n",
       "    <tr>\n",
       "      <th>3</th>\n",
       "      <td>3</td>\n",
       "      <td>275</td>\n",
       "      <td>2015-10-01 00:34:31</td>\n",
       "      <td>2015-10-01 00:39:06</td>\n",
       "      <td>3199</td>\n",
       "      <td>Newport Pkwy</td>\n",
       "      <td>40.728745</td>\n",
       "      <td>-74.032108</td>\n",
       "      <td>3187</td>\n",
       "      <td>Warren St</td>\n",
       "      <td>40.721124</td>\n",
       "      <td>-74.038051</td>\n",
       "      <td>24613</td>\n",
       "      <td>Subscriber</td>\n",
       "      <td>1975.0</td>\n",
       "      <td>1</td>\n",
       "      <td>5</td>\n",
       "    </tr>\n",
       "    <tr>\n",
       "      <th>4</th>\n",
       "      <td>4</td>\n",
       "      <td>561</td>\n",
       "      <td>2015-10-01 00:40:12</td>\n",
       "      <td>2015-10-01 00:49:33</td>\n",
       "      <td>3183</td>\n",
       "      <td>Exchange Place</td>\n",
       "      <td>40.716247</td>\n",
       "      <td>-74.033459</td>\n",
       "      <td>3192</td>\n",
       "      <td>Liberty Light Rail</td>\n",
       "      <td>40.711242</td>\n",
       "      <td>-74.055701</td>\n",
       "      <td>24668</td>\n",
       "      <td>Customer</td>\n",
       "      <td>1984.0</td>\n",
       "      <td>0</td>\n",
       "      <td>9</td>\n",
       "    </tr>\n",
       "  </tbody>\n",
       "</table>\n",
       "</div>"
      ],
      "text/plain": [
       "   Unnamed: 0  Trip Duration           Start Time            Stop Time  \\\n",
       "0           0            376  2015-10-01 00:16:26  2015-10-01 00:22:42   \n",
       "1           1            739  2015-10-01 00:27:12  2015-10-01 00:39:32   \n",
       "2           2           2714  2015-10-01 00:32:46  2015-10-01 01:18:01   \n",
       "3           3            275  2015-10-01 00:34:31  2015-10-01 00:39:06   \n",
       "4           4            561  2015-10-01 00:40:12  2015-10-01 00:49:33   \n",
       "\n",
       "   Start Station ID Start Station Name  Start Station Latitude  \\\n",
       "0              3212    Christ Hospital               40.734786   \n",
       "1              3207        Oakland Ave               40.737604   \n",
       "2              3193       Lincoln Park               40.724605   \n",
       "3              3199       Newport Pkwy               40.728745   \n",
       "4              3183     Exchange Place               40.716247   \n",
       "\n",
       "   Start Station Longitude  End Station ID    End Station Name  \\\n",
       "0               -74.050444            3207         Oakland Ave   \n",
       "1               -74.052478            3212     Christ Hospital   \n",
       "2               -74.078406            3193        Lincoln Park   \n",
       "3               -74.032108            3187           Warren St   \n",
       "4               -74.033459            3192  Liberty Light Rail   \n",
       "\n",
       "   End Station Latitude  End Station Longitude  Bike ID   User Type  \\\n",
       "0             40.737604             -74.052478    24470  Subscriber   \n",
       "1             40.734786             -74.050444    24481  Subscriber   \n",
       "2             40.724605             -74.078406    24628  Subscriber   \n",
       "3             40.721124             -74.038051    24613  Subscriber   \n",
       "4             40.711242             -74.055701    24668    Customer   \n",
       "\n",
       "   Birth Year  Gender  Trip_Duration_in_min  \n",
       "0      1960.0       1                     6  \n",
       "1      1960.0       1                    12  \n",
       "2      1983.0       1                    45  \n",
       "3      1975.0       1                     5  \n",
       "4      1984.0       0                     9  "
      ]
     },
     "execution_count": 2,
     "metadata": {},
     "output_type": "execute_result"
    }
   ],
   "source": [
    "##---------Type the code below this line------------------##\n",
    "# Load the dataset\n",
    "data = pd.read_csv('NYC-BikeShare-2015-2017-combined.csv')\n",
    "\n",
    "data.head(5)\n"
   ]
  },
  {
   "cell_type": "code",
   "execution_count": 10,
   "id": "dcdc45ed",
   "metadata": {},
   "outputs": [],
   "source": [
    "# Basic preprocessing (handling missing values, encoding, etc.)\n",
    "data.dropna(inplace=True)\n",
    "\n",
    "# Convert 'Start Time' and 'Stop Time' to datetime\n",
    "data['Start Time'] = pd.to_datetime(data['Start Time'])\n",
    "data['Stop Time'] = pd.to_datetime(data['Stop Time'])\n",
    "\n",
    "# Feature extraction\n",
    "data['Start Hour'] = data['Start Time'].dt.hour\n",
    "data['Day of Week'] = data['Start Time'].dt.dayofweek"
   ]
  },
  {
   "cell_type": "markdown",
   "id": "f06dbbc7",
   "metadata": {},
   "source": [
    "# 3. Data Preparation\n",
    "\n",
    "Perform the data prepracessing that is required for the data that you have downloaded.\n",
    "\n",
    "\n",
    "This stage depends on the dataset that is used."
   ]
  },
  {
   "cell_type": "code",
   "execution_count": 11,
   "id": "5bafba94",
   "metadata": {},
   "outputs": [],
   "source": [
    "##---------Type the code below this line------------------##\n",
    "\n",
    "## Split the data into training set and testing set\n",
    "##---------Type the code below this line------------------##\n",
    "\n",
    "\n",
    "## Identify the target variables.\n",
    "##---------Type the code below this line------------------##\n",
    "\n",
    "# Define features and target variable\n",
    "X = data[['Start Station Latitude', 'Start Station Longitude', 'End Station Latitude', \n",
    "           'End Station Longitude']]\n",
    "y = data['Trip_Duration_in_min'] # This is the target variable\n",
    "\n",
    "# Select relevant features\n",
    "features = data[['Start Hour', 'Day of Week', 'Start Station Latitude', 'Start Station Longitude',\n",
    "                 'End Station Latitude', 'End Station Longitude']]\n",
    "\n",
    "# Normalize the features\n",
    "scaler = MinMaxScaler()\n",
    "features_scaled = scaler.fit_transform(features)\n",
    "\n",
    "# Reshape data for CNN input for our architecture\n",
    "# We want to predict the next trip duration in mins based on the past 'n' trips\n",
    "n_timesteps = 10\n",
    "X, y = [], []\n",
    "for i in range(len(features_scaled) - n_timesteps):\n",
    "    X.append(features_scaled[i:i+n_timesteps])\n",
    "    y.append(features_scaled[i+n_timesteps, -1])  # Trip duration in min is the last feature and it is the target variable\n",
    "X, y = np.array(X), np.array(y)\n",
    "\n",
    "# Split the data into training set and testing set\n",
    "X_train, X_test, y_train, y_test = train_test_split(X, y, test_size=0.2, random_state=42)\n"
   ]
  },
  {
   "cell_type": "code",
   "execution_count": 13,
   "id": "d4e12cfa",
   "metadata": {},
   "outputs": [
    {
     "name": "stdout",
     "output_type": "stream",
     "text": [
      "Feature representation (X_train):\n",
      "Shape of X_train: (588393, 10, 6)\n",
      "Sample of X_train: [[[4.34782609e-01 0.00000000e+00 5.77171086e-01 9.74537394e-01\n",
      "   9.98183396e-01 8.52635789e-04]\n",
      "  [4.34782609e-01 0.00000000e+00 5.77171086e-01 9.74537394e-01\n",
      "   9.97862864e-01 8.55429427e-04]\n",
      "  [4.34782609e-01 0.00000000e+00 5.77171086e-01 9.74537394e-01\n",
      "   9.97862864e-01 8.55429427e-04]\n",
      "  [4.34782609e-01 0.00000000e+00 5.33472115e-01 2.85841599e-01\n",
      "   9.98137231e-01 3.95623304e-04]\n",
      "  [4.34782609e-01 0.00000000e+00 5.17680808e-01 5.05061053e-01\n",
      "   9.97996211e-01 7.26334163e-04]\n",
      "  [4.34782609e-01 0.00000000e+00 5.77171086e-01 9.74537394e-01\n",
      "   9.97862864e-01 8.55429427e-04]\n",
      "  [4.34782609e-01 0.00000000e+00 5.77171086e-01 9.74537394e-01\n",
      "   9.97862864e-01 8.55429427e-04]\n",
      "  [4.34782609e-01 0.00000000e+00 4.49709359e-01 8.30178385e-01\n",
      "   9.98108717e-01 6.24589924e-04]\n",
      "  [4.34782609e-01 0.00000000e+00 5.83387241e-01 8.12750106e-01\n",
      "   9.97862864e-01 8.55429427e-04]\n",
      "  [4.34782609e-01 0.00000000e+00 4.75368710e-01 9.08331071e-01\n",
      "   9.97914370e-01 8.56685889e-04]]\n",
      "\n",
      " [[8.69565217e-01 0.00000000e+00 4.49709359e-01 8.30178385e-01\n",
      "   9.97829258e-01 8.15835347e-04]\n",
      "  [8.69565217e-01 0.00000000e+00 4.49709359e-01 8.30178385e-01\n",
      "   9.98192524e-01 7.11085929e-04]\n",
      "  [8.69565217e-01 0.00000000e+00 3.93980549e-01 9.79166538e-01\n",
      "   9.98220681e-01 8.74913363e-04]\n",
      "  [8.69565217e-01 0.00000000e+00 3.93980549e-01 9.79166538e-01\n",
      "   9.98220681e-01 8.74913363e-04]\n",
      "  [8.69565217e-01 0.00000000e+00 3.93980549e-01 9.79166538e-01\n",
      "   9.98220681e-01 8.74913363e-04]\n",
      "  [8.69565217e-01 0.00000000e+00 3.93980549e-01 9.79166538e-01\n",
      "   9.98220681e-01 8.74913363e-04]\n",
      "  [8.69565217e-01 0.00000000e+00 3.93980549e-01 9.79166538e-01\n",
      "   9.98192524e-01 7.11085929e-04]\n",
      "  [8.69565217e-01 0.00000000e+00 3.93980549e-01 9.79166538e-01\n",
      "   9.98137231e-01 3.95623304e-04]\n",
      "  [8.69565217e-01 0.00000000e+00 4.49709359e-01 8.30178385e-01\n",
      "   9.98192524e-01 7.11085929e-04]\n",
      "  [8.69565217e-01 0.00000000e+00 3.58908221e-01 9.77730439e-01\n",
      "   9.98043735e-01 6.83321866e-04]]]\n",
      "\n",
      "Target variable (y_train):\n",
      "Shape of y_train: (588393,)\n",
      "Sample of y_train: [0.00044188 0.00044742]\n"
     ]
    }
   ],
   "source": [
    "# Report the feature representation that is being used for training the model.\n",
    "\n",
    "##---------Type below this line------------------##\n",
    "print(\"Feature representation (X_train):\")\n",
    "print(\"Shape of X_train:\", X_train.shape)\n",
    "print(\"Sample of X_train:\", X_train[:2])  # Print the first two samples for inspection\n",
    "\n",
    "print(\"\\nTarget variable (y_train):\")\n",
    "print(\"Shape of y_train:\", y_train.shape)\n",
    "print(\"Sample of y_train:\", y_train[:2])  # Print the first two target values for inspection\n"
   ]
  },
  {
   "cell_type": "markdown",
   "id": "3ae0b5d2",
   "metadata": {
    "id": "3ae0b5d2"
   },
   "source": [
    "## 4. Deep Neural Network Architecture\n"
   ]
  },
  {
   "cell_type": "markdown",
   "id": "186bf4d7",
   "metadata": {
    "id": "186bf4d7"
   },
   "source": [
    "## 4.1 Design the architecture that you will be using\n",
    "\n",
    "* CNN / RNN / Transformer as per the journal referenced\n",
    "\n"
   ]
  },
  {
   "cell_type": "markdown",
   "id": "fde8f018",
   "metadata": {},
   "source": [
    "### Number of Layers in the Model\n",
    "\n",
    "1. **Input Layer**: \n",
    "   - **Purpose**: Accepts input data with the defined shape (timesteps, features).\n",
    "\n",
    "2. **Conv1D Layer (2 layers)**:\n",
    "   - **Purpose**: These convolutional layers extract local patterns from the input sequences. The first layer has 64 filters with a kernel size of 3, and the second layer has the same configuration. The use of two layers allows the model to learn more complex features through hierarchical representation.\n",
    "\n",
    "3. **Batch Normalization (2 layers)**:\n",
    "   - **Purpose**: Normalizes the output of the convolutional layers, which helps in stabilizing the learning process and improving convergence speed.\n",
    "\n",
    "4. **Residual Connection**:\n",
    "   - **Purpose**: Adds the output of the second convolutional layer back to the input of that layer, allowing gradients to flow more easily during backpropagation. This helps in training deeper networks effectively.\n",
    "\n",
    "5. **Flatten Layer**:\n",
    "   - **Purpose**: Transforms the 3D output of the convolutional layers into a 2D array for the LSTM input.\n",
    "\n",
    "6. **Reshape Layer**:\n",
    "   - **Purpose**: Reshapes the flattened output back into the 3D shape expected by the LSTM layers.\n",
    "\n",
    "7. **LSTM Layer (2 layers)**:\n",
    "   - **Purpose**: The first LSTM layer returns sequences, which means it processes each timestep of the input sequence. The second LSTM layer summarizes the sequences, producing a single output for the entire sequence. This structure captures both short-term and long-term dependencies in the data.\n",
    "\n",
    "8. **Output Layer**:\n",
    "   - **Purpose**: A Dense layer with a linear activation function outputs the predicted trip duration.\n",
    "\n",
    "### Summary of Layers\n",
    "- Total **Layers**: 11 (including input, output)\n",
    "  - 1 Input Layer\n",
    "  - 2 Conv1D Layers\n",
    "  - 2 Batch Normalization Layers\n",
    "  - 1 Residual Connection\n",
    "  - 1 Flatten Layer\n",
    "  - 1 Reshape Layer\n",
    "  - 2 LSTM Layers\n",
    "  - 1 Output Layer\n",
    "\n",
    "Designed the model architecture as defined in research paper, which is a CNN-RNN Mesh model with residual network."
   ]
  },
  {
   "cell_type": "code",
   "execution_count": 23,
   "id": "11969bc5",
   "metadata": {},
   "outputs": [
    {
     "data": {
      "text/html": [
       "<pre style=\"white-space:pre;overflow-x:auto;line-height:normal;font-family:Menlo,'DejaVu Sans Mono',consolas,'Courier New',monospace\"><span style=\"font-weight: bold\">Model: \"functional_2\"</span>\n",
       "</pre>\n"
      ],
      "text/plain": [
       "\u001b[1mModel: \"functional_2\"\u001b[0m\n"
      ]
     },
     "metadata": {},
     "output_type": "display_data"
    },
    {
     "data": {
      "text/html": [
       "<pre style=\"white-space:pre;overflow-x:auto;line-height:normal;font-family:Menlo,'DejaVu Sans Mono',consolas,'Courier New',monospace\">┏━━━━━━━━━━━━━━━━━━━━━┳━━━━━━━━━━━━━━━━━━━┳━━━━━━━━━━━━┳━━━━━━━━━━━━━━━━━━━┓\n",
       "┃<span style=\"font-weight: bold\"> Layer (type)        </span>┃<span style=\"font-weight: bold\"> Output Shape      </span>┃<span style=\"font-weight: bold\">    Param # </span>┃<span style=\"font-weight: bold\"> Connected to      </span>┃\n",
       "┡━━━━━━━━━━━━━━━━━━━━━╇━━━━━━━━━━━━━━━━━━━╇━━━━━━━━━━━━╇━━━━━━━━━━━━━━━━━━━┩\n",
       "│ input_layer_2       │ (<span style=\"color: #00d7ff; text-decoration-color: #00d7ff\">None</span>, <span style=\"color: #00af00; text-decoration-color: #00af00\">10</span>, <span style=\"color: #00af00; text-decoration-color: #00af00\">6</span>)     │          <span style=\"color: #00af00; text-decoration-color: #00af00\">0</span> │ -                 │\n",
       "│ (<span style=\"color: #0087ff; text-decoration-color: #0087ff\">InputLayer</span>)        │                   │            │                   │\n",
       "├─────────────────────┼───────────────────┼────────────┼───────────────────┤\n",
       "│ conv1d_4 (<span style=\"color: #0087ff; text-decoration-color: #0087ff\">Conv1D</span>)   │ (<span style=\"color: #00d7ff; text-decoration-color: #00d7ff\">None</span>, <span style=\"color: #00af00; text-decoration-color: #00af00\">10</span>, <span style=\"color: #00af00; text-decoration-color: #00af00\">64</span>)    │      <span style=\"color: #00af00; text-decoration-color: #00af00\">1,216</span> │ input_layer_2[<span style=\"color: #00af00; text-decoration-color: #00af00\">0</span>]… │\n",
       "├─────────────────────┼───────────────────┼────────────┼───────────────────┤\n",
       "│ batch_normalizatio… │ (<span style=\"color: #00d7ff; text-decoration-color: #00d7ff\">None</span>, <span style=\"color: #00af00; text-decoration-color: #00af00\">10</span>, <span style=\"color: #00af00; text-decoration-color: #00af00\">64</span>)    │        <span style=\"color: #00af00; text-decoration-color: #00af00\">256</span> │ conv1d_4[<span style=\"color: #00af00; text-decoration-color: #00af00\">0</span>][<span style=\"color: #00af00; text-decoration-color: #00af00\">0</span>]    │\n",
       "│ (<span style=\"color: #0087ff; text-decoration-color: #0087ff\">BatchNormalizatio…</span> │                   │            │                   │\n",
       "├─────────────────────┼───────────────────┼────────────┼───────────────────┤\n",
       "│ conv1d_5 (<span style=\"color: #0087ff; text-decoration-color: #0087ff\">Conv1D</span>)   │ (<span style=\"color: #00d7ff; text-decoration-color: #00d7ff\">None</span>, <span style=\"color: #00af00; text-decoration-color: #00af00\">10</span>, <span style=\"color: #00af00; text-decoration-color: #00af00\">64</span>)    │     <span style=\"color: #00af00; text-decoration-color: #00af00\">12,352</span> │ batch_normalizat… │\n",
       "├─────────────────────┼───────────────────┼────────────┼───────────────────┤\n",
       "│ batch_normalizatio… │ (<span style=\"color: #00d7ff; text-decoration-color: #00d7ff\">None</span>, <span style=\"color: #00af00; text-decoration-color: #00af00\">10</span>, <span style=\"color: #00af00; text-decoration-color: #00af00\">64</span>)    │        <span style=\"color: #00af00; text-decoration-color: #00af00\">256</span> │ conv1d_5[<span style=\"color: #00af00; text-decoration-color: #00af00\">0</span>][<span style=\"color: #00af00; text-decoration-color: #00af00\">0</span>]    │\n",
       "│ (<span style=\"color: #0087ff; text-decoration-color: #0087ff\">BatchNormalizatio…</span> │                   │            │                   │\n",
       "├─────────────────────┼───────────────────┼────────────┼───────────────────┤\n",
       "│ add_2 (<span style=\"color: #0087ff; text-decoration-color: #0087ff\">Add</span>)         │ (<span style=\"color: #00d7ff; text-decoration-color: #00d7ff\">None</span>, <span style=\"color: #00af00; text-decoration-color: #00af00\">10</span>, <span style=\"color: #00af00; text-decoration-color: #00af00\">64</span>)    │          <span style=\"color: #00af00; text-decoration-color: #00af00\">0</span> │ batch_normalizat… │\n",
       "│                     │                   │            │ batch_normalizat… │\n",
       "├─────────────────────┼───────────────────┼────────────┼───────────────────┤\n",
       "│ flatten_2 (<span style=\"color: #0087ff; text-decoration-color: #0087ff\">Flatten</span>) │ (<span style=\"color: #00d7ff; text-decoration-color: #00d7ff\">None</span>, <span style=\"color: #00af00; text-decoration-color: #00af00\">640</span>)       │          <span style=\"color: #00af00; text-decoration-color: #00af00\">0</span> │ add_2[<span style=\"color: #00af00; text-decoration-color: #00af00\">0</span>][<span style=\"color: #00af00; text-decoration-color: #00af00\">0</span>]       │\n",
       "├─────────────────────┼───────────────────┼────────────┼───────────────────┤\n",
       "│ reshape_2 (<span style=\"color: #0087ff; text-decoration-color: #0087ff\">Reshape</span>) │ (<span style=\"color: #00d7ff; text-decoration-color: #00d7ff\">None</span>, <span style=\"color: #00af00; text-decoration-color: #00af00\">10</span>, <span style=\"color: #00af00; text-decoration-color: #00af00\">64</span>)    │          <span style=\"color: #00af00; text-decoration-color: #00af00\">0</span> │ flatten_2[<span style=\"color: #00af00; text-decoration-color: #00af00\">0</span>][<span style=\"color: #00af00; text-decoration-color: #00af00\">0</span>]   │\n",
       "├─────────────────────┼───────────────────┼────────────┼───────────────────┤\n",
       "│ lstm_4 (<span style=\"color: #0087ff; text-decoration-color: #0087ff\">LSTM</span>)       │ (<span style=\"color: #00d7ff; text-decoration-color: #00d7ff\">None</span>, <span style=\"color: #00af00; text-decoration-color: #00af00\">10</span>, <span style=\"color: #00af00; text-decoration-color: #00af00\">64</span>)    │     <span style=\"color: #00af00; text-decoration-color: #00af00\">33,024</span> │ reshape_2[<span style=\"color: #00af00; text-decoration-color: #00af00\">0</span>][<span style=\"color: #00af00; text-decoration-color: #00af00\">0</span>]   │\n",
       "├─────────────────────┼───────────────────┼────────────┼───────────────────┤\n",
       "│ lstm_5 (<span style=\"color: #0087ff; text-decoration-color: #0087ff\">LSTM</span>)       │ (<span style=\"color: #00d7ff; text-decoration-color: #00d7ff\">None</span>, <span style=\"color: #00af00; text-decoration-color: #00af00\">64</span>)        │     <span style=\"color: #00af00; text-decoration-color: #00af00\">33,024</span> │ lstm_4[<span style=\"color: #00af00; text-decoration-color: #00af00\">0</span>][<span style=\"color: #00af00; text-decoration-color: #00af00\">0</span>]      │\n",
       "├─────────────────────┼───────────────────┼────────────┼───────────────────┤\n",
       "│ dense_2 (<span style=\"color: #0087ff; text-decoration-color: #0087ff\">Dense</span>)     │ (<span style=\"color: #00d7ff; text-decoration-color: #00d7ff\">None</span>, <span style=\"color: #00af00; text-decoration-color: #00af00\">1</span>)         │         <span style=\"color: #00af00; text-decoration-color: #00af00\">65</span> │ lstm_5[<span style=\"color: #00af00; text-decoration-color: #00af00\">0</span>][<span style=\"color: #00af00; text-decoration-color: #00af00\">0</span>]      │\n",
       "└─────────────────────┴───────────────────┴────────────┴───────────────────┘\n",
       "</pre>\n"
      ],
      "text/plain": [
       "┏━━━━━━━━━━━━━━━━━━━━━┳━━━━━━━━━━━━━━━━━━━┳━━━━━━━━━━━━┳━━━━━━━━━━━━━━━━━━━┓\n",
       "┃\u001b[1m \u001b[0m\u001b[1mLayer (type)       \u001b[0m\u001b[1m \u001b[0m┃\u001b[1m \u001b[0m\u001b[1mOutput Shape     \u001b[0m\u001b[1m \u001b[0m┃\u001b[1m \u001b[0m\u001b[1m   Param #\u001b[0m\u001b[1m \u001b[0m┃\u001b[1m \u001b[0m\u001b[1mConnected to     \u001b[0m\u001b[1m \u001b[0m┃\n",
       "┡━━━━━━━━━━━━━━━━━━━━━╇━━━━━━━━━━━━━━━━━━━╇━━━━━━━━━━━━╇━━━━━━━━━━━━━━━━━━━┩\n",
       "│ input_layer_2       │ (\u001b[38;5;45mNone\u001b[0m, \u001b[38;5;34m10\u001b[0m, \u001b[38;5;34m6\u001b[0m)     │          \u001b[38;5;34m0\u001b[0m │ -                 │\n",
       "│ (\u001b[38;5;33mInputLayer\u001b[0m)        │                   │            │                   │\n",
       "├─────────────────────┼───────────────────┼────────────┼───────────────────┤\n",
       "│ conv1d_4 (\u001b[38;5;33mConv1D\u001b[0m)   │ (\u001b[38;5;45mNone\u001b[0m, \u001b[38;5;34m10\u001b[0m, \u001b[38;5;34m64\u001b[0m)    │      \u001b[38;5;34m1,216\u001b[0m │ input_layer_2[\u001b[38;5;34m0\u001b[0m]… │\n",
       "├─────────────────────┼───────────────────┼────────────┼───────────────────┤\n",
       "│ batch_normalizatio… │ (\u001b[38;5;45mNone\u001b[0m, \u001b[38;5;34m10\u001b[0m, \u001b[38;5;34m64\u001b[0m)    │        \u001b[38;5;34m256\u001b[0m │ conv1d_4[\u001b[38;5;34m0\u001b[0m][\u001b[38;5;34m0\u001b[0m]    │\n",
       "│ (\u001b[38;5;33mBatchNormalizatio…\u001b[0m │                   │            │                   │\n",
       "├─────────────────────┼───────────────────┼────────────┼───────────────────┤\n",
       "│ conv1d_5 (\u001b[38;5;33mConv1D\u001b[0m)   │ (\u001b[38;5;45mNone\u001b[0m, \u001b[38;5;34m10\u001b[0m, \u001b[38;5;34m64\u001b[0m)    │     \u001b[38;5;34m12,352\u001b[0m │ batch_normalizat… │\n",
       "├─────────────────────┼───────────────────┼────────────┼───────────────────┤\n",
       "│ batch_normalizatio… │ (\u001b[38;5;45mNone\u001b[0m, \u001b[38;5;34m10\u001b[0m, \u001b[38;5;34m64\u001b[0m)    │        \u001b[38;5;34m256\u001b[0m │ conv1d_5[\u001b[38;5;34m0\u001b[0m][\u001b[38;5;34m0\u001b[0m]    │\n",
       "│ (\u001b[38;5;33mBatchNormalizatio…\u001b[0m │                   │            │                   │\n",
       "├─────────────────────┼───────────────────┼────────────┼───────────────────┤\n",
       "│ add_2 (\u001b[38;5;33mAdd\u001b[0m)         │ (\u001b[38;5;45mNone\u001b[0m, \u001b[38;5;34m10\u001b[0m, \u001b[38;5;34m64\u001b[0m)    │          \u001b[38;5;34m0\u001b[0m │ batch_normalizat… │\n",
       "│                     │                   │            │ batch_normalizat… │\n",
       "├─────────────────────┼───────────────────┼────────────┼───────────────────┤\n",
       "│ flatten_2 (\u001b[38;5;33mFlatten\u001b[0m) │ (\u001b[38;5;45mNone\u001b[0m, \u001b[38;5;34m640\u001b[0m)       │          \u001b[38;5;34m0\u001b[0m │ add_2[\u001b[38;5;34m0\u001b[0m][\u001b[38;5;34m0\u001b[0m]       │\n",
       "├─────────────────────┼───────────────────┼────────────┼───────────────────┤\n",
       "│ reshape_2 (\u001b[38;5;33mReshape\u001b[0m) │ (\u001b[38;5;45mNone\u001b[0m, \u001b[38;5;34m10\u001b[0m, \u001b[38;5;34m64\u001b[0m)    │          \u001b[38;5;34m0\u001b[0m │ flatten_2[\u001b[38;5;34m0\u001b[0m][\u001b[38;5;34m0\u001b[0m]   │\n",
       "├─────────────────────┼───────────────────┼────────────┼───────────────────┤\n",
       "│ lstm_4 (\u001b[38;5;33mLSTM\u001b[0m)       │ (\u001b[38;5;45mNone\u001b[0m, \u001b[38;5;34m10\u001b[0m, \u001b[38;5;34m64\u001b[0m)    │     \u001b[38;5;34m33,024\u001b[0m │ reshape_2[\u001b[38;5;34m0\u001b[0m][\u001b[38;5;34m0\u001b[0m]   │\n",
       "├─────────────────────┼───────────────────┼────────────┼───────────────────┤\n",
       "│ lstm_5 (\u001b[38;5;33mLSTM\u001b[0m)       │ (\u001b[38;5;45mNone\u001b[0m, \u001b[38;5;34m64\u001b[0m)        │     \u001b[38;5;34m33,024\u001b[0m │ lstm_4[\u001b[38;5;34m0\u001b[0m][\u001b[38;5;34m0\u001b[0m]      │\n",
       "├─────────────────────┼───────────────────┼────────────┼───────────────────┤\n",
       "│ dense_2 (\u001b[38;5;33mDense\u001b[0m)     │ (\u001b[38;5;45mNone\u001b[0m, \u001b[38;5;34m1\u001b[0m)         │         \u001b[38;5;34m65\u001b[0m │ lstm_5[\u001b[38;5;34m0\u001b[0m][\u001b[38;5;34m0\u001b[0m]      │\n",
       "└─────────────────────┴───────────────────┴────────────┴───────────────────┘\n"
      ]
     },
     "metadata": {},
     "output_type": "display_data"
    },
    {
     "data": {
      "text/html": [
       "<pre style=\"white-space:pre;overflow-x:auto;line-height:normal;font-family:Menlo,'DejaVu Sans Mono',consolas,'Courier New',monospace\"><span style=\"font-weight: bold\"> Total params: </span><span style=\"color: #00af00; text-decoration-color: #00af00\">80,193</span> (313.25 KB)\n",
       "</pre>\n"
      ],
      "text/plain": [
       "\u001b[1m Total params: \u001b[0m\u001b[38;5;34m80,193\u001b[0m (313.25 KB)\n"
      ]
     },
     "metadata": {},
     "output_type": "display_data"
    },
    {
     "data": {
      "text/html": [
       "<pre style=\"white-space:pre;overflow-x:auto;line-height:normal;font-family:Menlo,'DejaVu Sans Mono',consolas,'Courier New',monospace\"><span style=\"font-weight: bold\"> Trainable params: </span><span style=\"color: #00af00; text-decoration-color: #00af00\">79,937</span> (312.25 KB)\n",
       "</pre>\n"
      ],
      "text/plain": [
       "\u001b[1m Trainable params: \u001b[0m\u001b[38;5;34m79,937\u001b[0m (312.25 KB)\n"
      ]
     },
     "metadata": {},
     "output_type": "display_data"
    },
    {
     "data": {
      "text/html": [
       "<pre style=\"white-space:pre;overflow-x:auto;line-height:normal;font-family:Menlo,'DejaVu Sans Mono',consolas,'Courier New',monospace\"><span style=\"font-weight: bold\"> Non-trainable params: </span><span style=\"color: #00af00; text-decoration-color: #00af00\">256</span> (1.00 KB)\n",
       "</pre>\n"
      ],
      "text/plain": [
       "\u001b[1m Non-trainable params: \u001b[0m\u001b[38;5;34m256\u001b[0m (1.00 KB)\n"
      ]
     },
     "metadata": {},
     "output_type": "display_data"
    }
   ],
   "source": [
    "# As per our understanding from the model section of paper, we defined this model and this is using for the regression task of timeseries traffic flow prediction\n",
    "def build_dcmrnn_model(input_shape):\n",
    "    inputs = Input(shape=input_shape)\n",
    "\n",
    "    # Residual Convolutional Layers\n",
    "    x = Conv1D(filters=64, kernel_size=3, padding='same', activation='relu')(inputs)\n",
    "    x = BatchNormalization()(x)\n",
    "    x = Conv1D(filters=64, kernel_size=3, padding='same', activation='relu')(x)\n",
    "    x = BatchNormalization()(x)\n",
    "    \n",
    "    # Adding a Residual Connection\n",
    "    residual = x\n",
    "    x = Add()([x, residual])\n",
    "\n",
    "    # Flatten and reshape for LSTM input\n",
    "    x = Flatten()(x)\n",
    "    x = Reshape((n_timesteps, 64))(x)\n",
    "\n",
    "    # Mesh RNN Layer (Using LSTM)\n",
    "    x1 = LSTM(64, return_sequences=True)(x)\n",
    "    x2 = LSTM(64)(x1)\n",
    "\n",
    "    # Output Layer\n",
    "    outputs = Dense(1, activation='linear')(x2)\n",
    "\n",
    "    model = Model(inputs, outputs)\n",
    "    return model\n",
    "\n",
    "# Define input shape\n",
    "input_shape = (n_timesteps, features.shape[1])  # (timesteps, features)\n",
    "model = build_dcmrnn_model(input_shape)\n",
    "\n",
    "model.compile(optimizer='adam', loss='mean_squared_error', metrics=['mae', 'accuracy'])\n",
    "\n",
    "# Print model summary\n",
    "model.summary()\n"
   ]
  },
  {
   "cell_type": "markdown",
   "id": "575f9e37",
   "metadata": {
    "id": "575f9e37"
   },
   "source": [
    "## 4.2 DNN Report\n",
    "\n",
    "Report the following and provide justification for the same.\n",
    "\n",
    "* Number of layers\n",
    "* Number of units in each layer\n",
    "* Total number of trainable parameters\n",
    "\n"
   ]
  },
  {
   "cell_type": "markdown",
   "id": "f9fa56d0",
   "metadata": {},
   "source": [
    "### Number of Units in Each Layer with Justification\n",
    "\n",
    "- Total 11 layers including input, output\n",
    "\n",
    "1. **Input Layer**:\n",
    "   - **Units**: Not applicable (just a placeholder for input shape).\n",
    "   - **Justification**: The input layer shape is defined by `(n_timesteps, features.shape[1])`, which varies depending on the dataset.\n",
    "\n",
    "2. **Conv1D Layers (2 layers)**:\n",
    "   - **Units**: 64 filters in each layer.\n",
    "   - **Justification**: \n",
    "     - **64 filters**: This number is a common choice in deep learning architectures, allowing the model to learn various feature representations from the input sequences. Using 64 filters helps balance between model complexity and training efficiency, capturing essential local patterns without excessive computational load.\n",
    "\n",
    "3. **Batch Normalization Layers (2 layers)**:\n",
    "   - **Units**: Not applicable (normalizes outputs of previous layers).\n",
    "   - **Justification**: Batch normalization doesn’t have units like layers do; it simply standardizes the activations of the previous layer to improve training speed and stability.\n",
    "\n",
    "4. **Residual Connection**:\n",
    "   - **Units**: Not applicable (adds outputs of Conv1D layers).\n",
    "   - **Justification**: The residual connection retains the same number of units as the previous layer, allowing gradients to flow easily during backpropagation. This aids in training deeper models effectively.\n",
    "\n",
    "5. **Flatten Layer**:\n",
    "   - **Units**: Not applicable (transforms the output to 2D).\n",
    "   - **Justification**: The flattening operation does not introduce new units; it reshapes the data for LSTM processing. The output shape depends on the preceding layer's output.\n",
    "\n",
    "6. **Reshape Layer**:\n",
    "   - **Units**: Not applicable (reshapes for LSTM input).\n",
    "   - **Justification**: Similar to the flatten layer, the reshape layer modifies the data structure but doesn’t add units. It ensures the data fits the expected shape for LSTM layers.\n",
    "\n",
    "7. **LSTM Layers (2 layers)**:\n",
    "   - **Units**: 64 units in the first LSTM layer and 64 units in the second LSTM layer.\n",
    "   - **Justification**: \n",
    "     - **64 units**: A common choice that allows the model to capture both short-term and long-term dependencies in the data. Having the same number of units in both layers maintains consistency in the learning capacity of the model, enabling it to effectively learn complex sequential relationships.\n",
    "\n",
    "8. **Output Layer**:\n",
    "   - **Units**: 1 unit (for trip duration prediction).\n",
    "   - **Justification**: This layer outputs a single continuous value, representing the predicted trip duration. A single unit is sufficient for regression tasks where only one output is needed.\n",
    "\n",
    "### Summary of Units\n",
    "- **Input Layer**: N/A\n",
    "- **Conv1D Layers**: 64 units each (2 layers)\n",
    "- **Batch Normalization Layers**: N/A\n",
    "- **Residual Connection**: N/A\n",
    "- **Flatten Layer**: N/A\n",
    "- **Reshape Layer**: N/A\n",
    "- **LSTM Layers**: 64 units each (2 layers)\n",
    "- **Output Layer**: 1 unit\n",
    "\n",
    "This architecture is designed to balance complexity and performance, ensuring the model is capable of learning from the dataset without overfitting or excessive computational demands.\n"
   ]
  },
  {
   "cell_type": "code",
   "execution_count": 24,
   "id": "29507d34",
   "metadata": {},
   "outputs": [
    {
     "name": "stdout",
     "output_type": "stream",
     "text": [
      "Number of layers: 11\n",
      "Layer details:\n",
      "InputLayer: N/A\n",
      "Conv1D: 64\n",
      "BatchNormalization: N/A\n",
      "Conv1D: 64\n",
      "BatchNormalization: N/A\n",
      "Add: N/A\n",
      "Flatten: N/A\n",
      "Reshape: N/A\n",
      "LSTM: 64\n",
      "LSTM: 64\n",
      "Dense: 1\n",
      "Total number of trainable parameters: 80193\n"
     ]
    }
   ],
   "source": [
    "##---------Type the answer below this line------------------### \n",
    "\n",
    "# Report DNN architecture with detailed layer information\n",
    "layers = model.layers\n",
    "num_layers = len(layers)\n",
    "\n",
    "# Prepare a detailed report\n",
    "layer_info = []\n",
    "for layer in layers:\n",
    "    layer_type = layer.__class__.__name__\n",
    "    if isinstance(layer, Dense):\n",
    "        units = layer.units\n",
    "    elif isinstance(layer, LSTM):\n",
    "        units = layer.units\n",
    "    elif isinstance(layer, Conv1D):\n",
    "        units = layer.filters\n",
    "    else:\n",
    "        units = 'N/A'\n",
    "    \n",
    "    layer_info.append(f\"{layer_type}: {units}\")\n",
    "\n",
    "total_params = model.count_params()\n",
    "\n",
    "# Print the results\n",
    "print(f'Number of layers: {num_layers}')\n",
    "print('Layer details:')\n",
    "for info in layer_info:\n",
    "    print(info)\n",
    "print(f'Total number of trainable parameters: {total_params}')\n"
   ]
  },
  {
   "cell_type": "markdown",
   "id": "ba81baef",
   "metadata": {},
   "source": [
    "# 5. Training the model"
   ]
  },
  {
   "cell_type": "markdown",
   "id": "7bb7d871",
   "metadata": {},
   "source": [
    "- Adam optimizer is used in thie model\n",
    "- Regularizaiton is not implemented in this paper, so we are not implementing here\n",
    "- Remaining details are given below"
   ]
  },
  {
   "cell_type": "code",
   "execution_count": 25,
   "id": "61a16d09",
   "metadata": {},
   "outputs": [
    {
     "name": "stdout",
     "output_type": "stream",
     "text": [
      "Epoch 1/50\n",
      "\u001b[1m3678/3678\u001b[0m \u001b[32m━━━━━━━━━━━━━━━━━━━━\u001b[0m\u001b[37m\u001b[0m \u001b[1m74s\u001b[0m 20ms/step - accuracy: 0.0012 - loss: 3.2874e-04 - mae: 0.0062 - val_accuracy: 9.5174e-04 - val_loss: 8.5670e-07 - val_mae: 7.4117e-04\n",
      "Epoch 2/50\n",
      "\u001b[1m3678/3678\u001b[0m \u001b[32m━━━━━━━━━━━━━━━━━━━━\u001b[0m\u001b[37m\u001b[0m \u001b[1m65s\u001b[0m 18ms/step - accuracy: 0.0011 - loss: 2.0670e-06 - mae: 7.3230e-04 - val_accuracy: 9.5174e-04 - val_loss: 8.3226e-08 - val_mae: 2.1758e-04\n",
      "Epoch 3/50\n",
      "\u001b[1m3678/3678\u001b[0m \u001b[32m━━━━━━━━━━━━━━━━━━━━\u001b[0m\u001b[37m\u001b[0m \u001b[1m70s\u001b[0m 19ms/step - accuracy: 0.0010 - loss: 6.0409e-06 - mae: 2.5520e-04 - val_accuracy: 9.5174e-04 - val_loss: 2.9280e-08 - val_mae: 1.2861e-04\n",
      "Epoch 4/50\n",
      "\u001b[1m3678/3678\u001b[0m \u001b[32m━━━━━━━━━━━━━━━━━━━━\u001b[0m\u001b[37m\u001b[0m \u001b[1m71s\u001b[0m 19ms/step - accuracy: 0.0012 - loss: 5.7915e-06 - mae: 2.0843e-04 - val_accuracy: 9.5174e-04 - val_loss: 2.3640e-08 - val_mae: 1.1430e-04\n",
      "Epoch 5/50\n",
      "\u001b[1m3678/3678\u001b[0m \u001b[32m━━━━━━━━━━━━━━━━━━━━\u001b[0m\u001b[37m\u001b[0m \u001b[1m65s\u001b[0m 18ms/step - accuracy: 0.0011 - loss: 6.5855e-06 - mae: 1.8387e-04 - val_accuracy: 9.5174e-04 - val_loss: 2.7380e-08 - val_mae: 1.1856e-04\n",
      "Epoch 6/50\n",
      "\u001b[1m3678/3678\u001b[0m \u001b[32m━━━━━━━━━━━━━━━━━━━━\u001b[0m\u001b[37m\u001b[0m \u001b[1m60s\u001b[0m 16ms/step - accuracy: 0.0011 - loss: 7.0396e-06 - mae: 1.7965e-04 - val_accuracy: 9.5174e-04 - val_loss: 4.4625e-08 - val_mae: 1.5709e-04\n",
      "Epoch 7/50\n",
      "\u001b[1m3678/3678\u001b[0m \u001b[32m━━━━━━━━━━━━━━━━━━━━\u001b[0m\u001b[37m\u001b[0m \u001b[1m68s\u001b[0m 18ms/step - accuracy: 0.0011 - loss: 4.7949e-06 - mae: 1.5905e-04 - val_accuracy: 9.5174e-04 - val_loss: 2.3238e-08 - val_mae: 1.1978e-04\n",
      "Epoch 8/50\n",
      "\u001b[1m3678/3678\u001b[0m \u001b[32m━━━━━━━━━━━━━━━━━━━━\u001b[0m\u001b[37m\u001b[0m \u001b[1m63s\u001b[0m 17ms/step - accuracy: 0.0012 - loss: 6.6813e-06 - mae: 1.6693e-04 - val_accuracy: 9.5174e-04 - val_loss: 2.4822e-08 - val_mae: 1.1220e-04\n",
      "Epoch 9/50\n",
      "\u001b[1m3678/3678\u001b[0m \u001b[32m━━━━━━━━━━━━━━━━━━━━\u001b[0m\u001b[37m\u001b[0m \u001b[1m63s\u001b[0m 17ms/step - accuracy: 0.0010 - loss: 7.3448e-07 - mae: 1.2115e-04 - val_accuracy: 9.5174e-04 - val_loss: 2.5117e-08 - val_mae: 1.2928e-04\n",
      "Epoch 10/50\n",
      "\u001b[1m3678/3678\u001b[0m \u001b[32m━━━━━━━━━━━━━━━━━━━━\u001b[0m\u001b[37m\u001b[0m \u001b[1m62s\u001b[0m 17ms/step - accuracy: 0.0011 - loss: 2.5323e-06 - mae: 1.2876e-04 - val_accuracy: 9.5174e-04 - val_loss: 2.2725e-08 - val_mae: 1.0948e-04\n",
      "Epoch 11/50\n",
      "\u001b[1m3678/3678\u001b[0m \u001b[32m━━━━━━━━━━━━━━━━━━━━\u001b[0m\u001b[37m\u001b[0m \u001b[1m65s\u001b[0m 18ms/step - accuracy: 0.0011 - loss: 1.4279e-06 - mae: 1.2239e-04 - val_accuracy: 9.5174e-04 - val_loss: 2.2867e-08 - val_mae: 1.1392e-04\n",
      "Epoch 12/50\n",
      "\u001b[1m3678/3678\u001b[0m \u001b[32m━━━━━━━━━━━━━━━━━━━━\u001b[0m\u001b[37m\u001b[0m \u001b[1m64s\u001b[0m 17ms/step - accuracy: 0.0011 - loss: 9.4116e-06 - mae: 1.6537e-04 - val_accuracy: 9.5174e-04 - val_loss: 3.0299e-08 - val_mae: 1.2579e-04\n",
      "Epoch 13/50\n",
      "\u001b[1m3678/3678\u001b[0m \u001b[32m━━━━━━━━━━━━━━━━━━━━\u001b[0m\u001b[37m\u001b[0m \u001b[1m68s\u001b[0m 19ms/step - accuracy: 0.0011 - loss: 2.9965e-06 - mae: 1.3401e-04 - val_accuracy: 9.5174e-04 - val_loss: 2.2598e-08 - val_mae: 1.1134e-04\n",
      "Epoch 14/50\n",
      "\u001b[1m3678/3678\u001b[0m \u001b[32m━━━━━━━━━━━━━━━━━━━━\u001b[0m\u001b[37m\u001b[0m \u001b[1m64s\u001b[0m 17ms/step - accuracy: 9.8934e-04 - loss: 1.1945e-06 - mae: 1.2131e-04 - val_accuracy: 9.5174e-04 - val_loss: 9.6582e-08 - val_mae: 2.8310e-04\n",
      "Epoch 15/50\n",
      "\u001b[1m3678/3678\u001b[0m \u001b[32m━━━━━━━━━━━━━━━━━━━━\u001b[0m\u001b[37m\u001b[0m \u001b[1m64s\u001b[0m 17ms/step - accuracy: 0.0011 - loss: 3.9350e-06 - mae: 1.3979e-04 - val_accuracy: 9.5174e-04 - val_loss: 2.2595e-08 - val_mae: 1.1109e-04\n",
      "Epoch 16/50\n",
      "\u001b[1m3678/3678\u001b[0m \u001b[32m━━━━━━━━━━━━━━━━━━━━\u001b[0m\u001b[37m\u001b[0m \u001b[1m63s\u001b[0m 17ms/step - accuracy: 0.0010 - loss: 6.4254e-06 - mae: 1.5469e-04 - val_accuracy: 9.5174e-04 - val_loss: 2.2686e-08 - val_mae: 1.1408e-04\n",
      "Epoch 17/50\n",
      "\u001b[1m3678/3678\u001b[0m \u001b[32m━━━━━━━━━━━━━━━━━━━━\u001b[0m\u001b[37m\u001b[0m \u001b[1m65s\u001b[0m 18ms/step - accuracy: 0.0011 - loss: 5.3933e-06 - mae: 1.4652e-04 - val_accuracy: 9.5174e-04 - val_loss: 2.2732e-08 - val_mae: 1.1179e-04\n",
      "Epoch 18/50\n",
      "\u001b[1m3678/3678\u001b[0m \u001b[32m━━━━━━━━━━━━━━━━━━━━\u001b[0m\u001b[37m\u001b[0m \u001b[1m60s\u001b[0m 16ms/step - accuracy: 0.0011 - loss: 2.9414e-06 - mae: 1.3229e-04 - val_accuracy: 9.5174e-04 - val_loss: 2.2567e-08 - val_mae: 1.1143e-04\n",
      "Epoch 19/50\n",
      "\u001b[1m3678/3678\u001b[0m \u001b[32m━━━━━━━━━━━━━━━━━━━━\u001b[0m\u001b[37m\u001b[0m \u001b[1m62s\u001b[0m 17ms/step - accuracy: 0.0011 - loss: 3.9377e-06 - mae: 1.3751e-04 - val_accuracy: 9.5174e-04 - val_loss: 2.4025e-08 - val_mae: 1.0969e-04\n",
      "Epoch 20/50\n",
      "\u001b[1m3678/3678\u001b[0m \u001b[32m━━━━━━━━━━━━━━━━━━━━\u001b[0m\u001b[37m\u001b[0m \u001b[1m63s\u001b[0m 17ms/step - accuracy: 0.0011 - loss: 7.5900e-06 - mae: 1.6086e-04 - val_accuracy: 9.5174e-04 - val_loss: 2.2801e-08 - val_mae: 1.1608e-04\n",
      "Epoch 21/50\n",
      "\u001b[1m3678/3678\u001b[0m \u001b[32m━━━━━━━━━━━━━━━━━━━━\u001b[0m\u001b[37m\u001b[0m \u001b[1m61s\u001b[0m 17ms/step - accuracy: 0.0011 - loss: 3.5190e-06 - mae: 1.3775e-04 - val_accuracy: 9.5174e-04 - val_loss: 2.2686e-08 - val_mae: 1.1448e-04\n",
      "Epoch 22/50\n",
      "\u001b[1m3678/3678\u001b[0m \u001b[32m━━━━━━━━━━━━━━━━━━━━\u001b[0m\u001b[37m\u001b[0m \u001b[1m62s\u001b[0m 17ms/step - accuracy: 0.0011 - loss: 2.3951e-06 - mae: 1.2851e-04 - val_accuracy: 9.5174e-04 - val_loss: 2.2521e-08 - val_mae: 1.1044e-04\n",
      "Epoch 23/50\n",
      "\u001b[1m3678/3678\u001b[0m \u001b[32m━━━━━━━━━━━━━━━━━━━━\u001b[0m\u001b[37m\u001b[0m \u001b[1m61s\u001b[0m 17ms/step - accuracy: 0.0010 - loss: 7.3387e-06 - mae: 1.5899e-04 - val_accuracy: 9.5174e-04 - val_loss: 2.2697e-08 - val_mae: 1.1478e-04\n",
      "Epoch 24/50\n",
      "\u001b[1m3678/3678\u001b[0m \u001b[32m━━━━━━━━━━━━━━━━━━━━\u001b[0m\u001b[37m\u001b[0m \u001b[1m64s\u001b[0m 17ms/step - accuracy: 0.0011 - loss: 5.6801e-06 - mae: 1.5011e-04 - val_accuracy: 9.5174e-04 - val_loss: 2.3306e-08 - val_mae: 1.0777e-04\n",
      "Epoch 25/50\n",
      "\u001b[1m3678/3678\u001b[0m \u001b[32m━━━━━━━━━━━━━━━━━━━━\u001b[0m\u001b[37m\u001b[0m \u001b[1m63s\u001b[0m 17ms/step - accuracy: 0.0011 - loss: 1.7233e-06 - mae: 1.2470e-04 - val_accuracy: 9.5174e-04 - val_loss: 2.2655e-08 - val_mae: 1.1418e-04\n",
      "Epoch 26/50\n",
      "\u001b[1m3678/3678\u001b[0m \u001b[32m━━━━━━━━━━━━━━━━━━━━\u001b[0m\u001b[37m\u001b[0m \u001b[1m62s\u001b[0m 17ms/step - accuracy: 0.0011 - loss: 7.9385e-06 - mae: 1.6022e-04 - val_accuracy: 9.5174e-04 - val_loss: 2.2548e-08 - val_mae: 1.1254e-04\n",
      "Epoch 27/50\n",
      "\u001b[1m3678/3678\u001b[0m \u001b[32m━━━━━━━━━━━━━━━━━━━━\u001b[0m\u001b[37m\u001b[0m \u001b[1m64s\u001b[0m 17ms/step - accuracy: 0.0011 - loss: 5.1581e-06 - mae: 1.4786e-04 - val_accuracy: 9.5174e-04 - val_loss: 2.3367e-08 - val_mae: 1.2076e-04\n",
      "Epoch 28/50\n",
      "\u001b[1m3678/3678\u001b[0m \u001b[32m━━━━━━━━━━━━━━━━━━━━\u001b[0m\u001b[37m\u001b[0m \u001b[1m63s\u001b[0m 17ms/step - accuracy: 0.0011 - loss: 5.5148e-06 - mae: 1.4770e-04 - val_accuracy: 9.5174e-04 - val_loss: 2.2695e-08 - val_mae: 1.1481e-04\n",
      "Epoch 29/50\n",
      "\u001b[1m3678/3678\u001b[0m \u001b[32m━━━━━━━━━━━━━━━━━━━━\u001b[0m\u001b[37m\u001b[0m \u001b[1m62s\u001b[0m 17ms/step - accuracy: 0.0011 - loss: 7.0986e-06 - mae: 1.5834e-04 - val_accuracy: 9.5174e-04 - val_loss: 2.2710e-08 - val_mae: 1.0815e-04\n",
      "Epoch 30/50\n",
      "\u001b[1m3678/3678\u001b[0m \u001b[32m━━━━━━━━━━━━━━━━━━━━\u001b[0m\u001b[37m\u001b[0m \u001b[1m61s\u001b[0m 17ms/step - accuracy: 0.0011 - loss: 7.5827e-06 - mae: 1.6190e-04 - val_accuracy: 9.5174e-04 - val_loss: 2.2548e-08 - val_mae: 1.0945e-04\n",
      "Epoch 31/50\n",
      "\u001b[1m3678/3678\u001b[0m \u001b[32m━━━━━━━━━━━━━━━━━━━━\u001b[0m\u001b[37m\u001b[0m \u001b[1m60s\u001b[0m 16ms/step - accuracy: 0.0011 - loss: 1.6944e-07 - mae: 1.1789e-04 - val_accuracy: 9.5174e-04 - val_loss: 2.2952e-08 - val_mae: 1.0943e-04\n",
      "Epoch 32/50\n",
      "\u001b[1m3678/3678\u001b[0m \u001b[32m━━━━━━━━━━━━━━━━━━━━\u001b[0m\u001b[37m\u001b[0m \u001b[1m65s\u001b[0m 18ms/step - accuracy: 0.0011 - loss: 1.9570e-06 - mae: 1.2477e-04 - val_accuracy: 9.5174e-04 - val_loss: 2.2548e-08 - val_mae: 1.0997e-04\n",
      "Epoch 33/50\n",
      "\u001b[1m3678/3678\u001b[0m \u001b[32m━━━━━━━━━━━━━━━━━━━━\u001b[0m\u001b[37m\u001b[0m \u001b[1m67s\u001b[0m 18ms/step - accuracy: 0.0011 - loss: 1.3855e-06 - mae: 1.2201e-04 - val_accuracy: 9.5174e-04 - val_loss: 2.2555e-08 - val_mae: 1.1227e-04\n",
      "Epoch 34/50\n",
      "\u001b[1m3678/3678\u001b[0m \u001b[32m━━━━━━━━━━━━━━━━━━━━\u001b[0m\u001b[37m\u001b[0m \u001b[1m72s\u001b[0m 20ms/step - accuracy: 0.0011 - loss: 3.4272e-06 - mae: 1.3434e-04 - val_accuracy: 9.5174e-04 - val_loss: 2.2594e-08 - val_mae: 1.0910e-04\n",
      "Epoch 35/50\n",
      "\u001b[1m3678/3678\u001b[0m \u001b[32m━━━━━━━━━━━━━━━━━━━━\u001b[0m\u001b[37m\u001b[0m \u001b[1m72s\u001b[0m 20ms/step - accuracy: 0.0011 - loss: 3.5026e-06 - mae: 1.3569e-04 - val_accuracy: 9.5174e-04 - val_loss: 2.2631e-08 - val_mae: 1.0883e-04\n",
      "Epoch 36/50\n",
      "\u001b[1m3678/3678\u001b[0m \u001b[32m━━━━━━━━━━━━━━━━━━━━\u001b[0m\u001b[37m\u001b[0m \u001b[1m72s\u001b[0m 20ms/step - accuracy: 0.0010 - loss: 1.3809e-06 - mae: 1.2373e-04 - val_accuracy: 9.5174e-04 - val_loss: 2.2886e-08 - val_mae: 1.1644e-04\n",
      "Epoch 37/50\n",
      "\u001b[1m3678/3678\u001b[0m \u001b[32m━━━━━━━━━━━━━━━━━━━━\u001b[0m\u001b[37m\u001b[0m \u001b[1m71s\u001b[0m 19ms/step - accuracy: 0.0011 - loss: 4.1184e-06 - mae: 1.3889e-04 - val_accuracy: 9.5174e-04 - val_loss: 2.3998e-08 - val_mae: 1.0941e-04\n",
      "Epoch 38/50\n",
      "\u001b[1m3678/3678\u001b[0m \u001b[32m━━━━━━━━━━━━━━━━━━━━\u001b[0m\u001b[37m\u001b[0m \u001b[1m71s\u001b[0m 19ms/step - accuracy: 9.7147e-04 - loss: 3.7087e-06 - mae: 1.3693e-04 - val_accuracy: 9.5174e-04 - val_loss: 2.2710e-08 - val_mae: 1.0863e-04\n",
      "Epoch 39/50\n",
      "\u001b[1m3678/3678\u001b[0m \u001b[32m━━━━━━━━━━━━━━━━━━━━\u001b[0m\u001b[37m\u001b[0m \u001b[1m70s\u001b[0m 19ms/step - accuracy: 0.0011 - loss: 4.0419e-06 - mae: 1.4043e-04 - val_accuracy: 9.5174e-04 - val_loss: 2.2848e-08 - val_mae: 1.0791e-04\n",
      "Epoch 40/50\n",
      "\u001b[1m3678/3678\u001b[0m \u001b[32m━━━━━━━━━━━━━━━━━━━━\u001b[0m\u001b[37m\u001b[0m \u001b[1m70s\u001b[0m 19ms/step - accuracy: 0.0011 - loss: 1.7422e-06 - mae: 1.2545e-04 - val_accuracy: 9.5174e-04 - val_loss: 2.3485e-08 - val_mae: 1.2119e-04\n",
      "Epoch 41/50\n",
      "\u001b[1m3678/3678\u001b[0m \u001b[32m━━━━━━━━━━━━━━━━━━━━\u001b[0m\u001b[37m\u001b[0m \u001b[1m70s\u001b[0m 19ms/step - accuracy: 0.0011 - loss: 7.0707e-06 - mae: 1.5468e-04 - val_accuracy: 9.5174e-04 - val_loss: 2.2561e-08 - val_mae: 1.0985e-04\n",
      "Epoch 42/50\n",
      "\u001b[1m3678/3678\u001b[0m \u001b[32m━━━━━━━━━━━━━━━━━━━━\u001b[0m\u001b[37m\u001b[0m \u001b[1m70s\u001b[0m 19ms/step - accuracy: 0.0010 - loss: 1.3513e-06 - mae: 1.2442e-04 - val_accuracy: 9.5174e-04 - val_loss: 2.3030e-08 - val_mae: 1.1830e-04\n",
      "Epoch 43/50\n",
      "\u001b[1m3678/3678\u001b[0m \u001b[32m━━━━━━━━━━━━━━━━━━━━\u001b[0m\u001b[37m\u001b[0m \u001b[1m69s\u001b[0m 19ms/step - accuracy: 0.0011 - loss: 1.5798e-06 - mae: 1.2285e-04 - val_accuracy: 9.5174e-04 - val_loss: 3.1615e-08 - val_mae: 1.2900e-04\n",
      "Epoch 44/50\n",
      "\u001b[1m3678/3678\u001b[0m \u001b[32m━━━━━━━━━━━━━━━━━━━━\u001b[0m\u001b[37m\u001b[0m \u001b[1m68s\u001b[0m 18ms/step - accuracy: 0.0011 - loss: 1.2071e-05 - mae: 1.7925e-04 - val_accuracy: 9.5174e-04 - val_loss: 2.2607e-08 - val_mae: 1.0846e-04\n",
      "Epoch 45/50\n",
      "\u001b[1m3678/3678\u001b[0m \u001b[32m━━━━━━━━━━━━━━━━━━━━\u001b[0m\u001b[37m\u001b[0m \u001b[1m69s\u001b[0m 19ms/step - accuracy: 0.0011 - loss: 4.3040e-06 - mae: 1.4300e-04 - val_accuracy: 9.5174e-04 - val_loss: 2.3146e-08 - val_mae: 1.1932e-04\n",
      "Epoch 46/50\n",
      "\u001b[1m3678/3678\u001b[0m \u001b[32m━━━━━━━━━━━━━━━━━━━━\u001b[0m\u001b[37m\u001b[0m \u001b[1m68s\u001b[0m 19ms/step - accuracy: 0.0011 - loss: 3.7667e-06 - mae: 1.3699e-04 - val_accuracy: 9.5174e-04 - val_loss: 2.2871e-08 - val_mae: 1.1687e-04\n",
      "Epoch 47/50\n",
      "\u001b[1m3678/3678\u001b[0m \u001b[32m━━━━━━━━━━━━━━━━━━━━\u001b[0m\u001b[37m\u001b[0m \u001b[1m67s\u001b[0m 18ms/step - accuracy: 0.0011 - loss: 2.0837e-06 - mae: 1.2524e-04 - val_accuracy: 9.5174e-04 - val_loss: 2.2601e-08 - val_mae: 1.1038e-04\n",
      "Epoch 48/50\n",
      "\u001b[1m3678/3678\u001b[0m \u001b[32m━━━━━━━━━━━━━━━━━━━━\u001b[0m\u001b[37m\u001b[0m \u001b[1m68s\u001b[0m 18ms/step - accuracy: 0.0011 - loss: 3.5968e-06 - mae: 1.3647e-04 - val_accuracy: 9.5174e-04 - val_loss: 2.3178e-08 - val_mae: 1.0779e-04\n",
      "Epoch 49/50\n",
      "\u001b[1m3678/3678\u001b[0m \u001b[32m━━━━━━━━━━━━━━━━━━━━\u001b[0m\u001b[37m\u001b[0m \u001b[1m66s\u001b[0m 18ms/step - accuracy: 0.0011 - loss: 5.5754e-06 - mae: 1.4887e-04 - val_accuracy: 9.5174e-04 - val_loss: 2.3205e-08 - val_mae: 1.1976e-04\n",
      "Epoch 50/50\n",
      "\u001b[1m3678/3678\u001b[0m \u001b[32m━━━━━━━━━━━━━━━━━━━━\u001b[0m\u001b[37m\u001b[0m \u001b[1m66s\u001b[0m 18ms/step - accuracy: 0.0010 - loss: 1.2256e-06 - mae: 1.2193e-04 - val_accuracy: 9.5174e-04 - val_loss: 3.2518e-08 - val_mae: 1.5906e-04\n"
     ]
    }
   ],
   "source": [
    "# Regularization everything defined in testing of model not needed here\n",
    "# Training the model\n",
    "history = model.fit(\n",
    "    X_train,         # Training features\n",
    "    y_train,         # Training labels\n",
    "    validation_split=0.2,  # Use 20% of data for validation\n",
    "    epochs=50,      # Train for 50 epochs\n",
    "    batch_size=128,   # Process 128 samples at a time, for running 32 epochs it will more take time to run, so kept 128\n",
    "    verbose=1        # Show training progress\n",
    ")\n"
   ]
  },
  {
   "cell_type": "markdown",
   "id": "06f1173c",
   "metadata": {
    "id": "06f1173c"
   },
   "source": [
    "# 6. Test the model\n"
   ]
  },
  {
   "cell_type": "markdown",
   "id": "4a3fb42a",
   "metadata": {},
   "source": [
    "Testing Model details:\n",
    "- Evaluate: Computes test loss (Mean Squared Error) and Mean Absolute Error on the test set.\n",
    "- Predict: Generates predictions for the test data.\n",
    "- Calculate MSE: Measures the average squared difference between actual and predicted values.\n",
    "- Output: Prints test loss, MAE, and MSE for model performance assessment.\n"
   ]
  },
  {
   "cell_type": "code",
   "execution_count": 26,
   "id": "7042235d",
   "metadata": {
    "id": "7042235d"
   },
   "outputs": [
    {
     "name": "stdout",
     "output_type": "stream",
     "text": [
      "\u001b[1m4597/4597\u001b[0m \u001b[32m━━━━━━━━━━━━━━━━━━━━\u001b[0m\u001b[37m\u001b[0m \u001b[1m20s\u001b[0m 4ms/step - accuracy: 0.0011 - loss: 3.2597e-05 - mae: 1.9155e-04\n",
      "Test Loss: 1.361276281386381e-05, Test MAE: 0.00017246973584406078, Test Accuracy: 0.0010945009998977184\n",
      "\u001b[1m4597/4597\u001b[0m \u001b[32m━━━━━━━━━━━━━━━━━━━━\u001b[0m\u001b[37m\u001b[0m \u001b[1m21s\u001b[0m 4ms/step\n",
      "Mean Squared Error: 1.3612776140645046e-05\n"
     ]
    }
   ],
   "source": [
    "##---------Type the code below this line------------------##\n",
    "\n",
    "# Metrics: Mean Absolute Error (MAE) is used for evaluating model performance during training.\n",
    "# Evaluate the model on the test set\n",
    "test_loss, test_mae, test_accuracy = model.evaluate(X_test, y_test, verbose=1)\n",
    "print(f'Test Loss: {test_loss}, Test MAE: {test_mae}, Test Accuracy: {test_accuracy}')\n",
    "\n",
    "# Predictions\n",
    "y_pred = model.predict(X_test)\n",
    "\n",
    "# Calculate Mean Squared Error\n",
    "mse = mean_squared_error(y_test, y_pred)\n",
    "print(f'Mean Squared Error: {mse}')\n"
   ]
  },
  {
   "cell_type": "markdown",
   "id": "eb57940c",
   "metadata": {
    "id": "eb57940c"
   },
   "source": [
    "# 7. Report the result\n",
    "\n",
    "1. Plot the training and validation accuracy history.\n",
    "2. Plot the training and validation loss history.\n",
    "3. Report the testing accuracy and loss.\n",
    "4. Show Confusion Matrix for testing dataset.\n",
    "5. Report values for preformance study metrics like accuracy, precision, recall, F1 Score.\n"
   ]
  },
  {
   "cell_type": "code",
   "execution_count": 27,
   "id": "cf409d22",
   "metadata": {
    "id": "cf409d22"
   },
   "outputs": [
    {
     "data": {
      "image/png": "[encoded data removed]",
      "text/plain": [
       "<Figure size 1200x500 with 1 Axes>"
      ]
     },
     "metadata": {},
     "output_type": "display_data"
    }
   ],
   "source": [
    "##---------Type the code below this line------------------##\n",
    "# Plot training and validation loss\n",
    "plt.figure(figsize=(12, 5))\n",
    "plt.plot(history.history['loss'], label='Training Loss')\n",
    "plt.plot(history.history['val_loss'], label='Validation Loss')\n",
    "plt.title('Training and Validation Loss')\n",
    "plt.xlabel('Epochs')\n",
    "plt.ylabel('Loss')\n",
    "plt.legend()\n",
    "plt.show()\n"
   ]
  },
  {
   "cell_type": "markdown",
   "id": "1c39b827",
   "metadata": {},
   "source": [
    "Note: This paper implementation is a regression task. To plot the accuracies, it's apt only for the classification tasks only"
   ]
  },
  {
   "cell_type": "code",
   "execution_count": 28,
   "id": "5225f671",
   "metadata": {},
   "outputs": [
    {
     "data": {
      "image/png": "[encoded data removed]",
      "text/plain": [
       "<Figure size 1200x600 with 1 Axes>"
      ]
     },
     "metadata": {},
     "output_type": "display_data"
    }
   ],
   "source": [
    "# Plot training & validation accuracy\n",
    "plt.figure(figsize=(12, 6))\n",
    "plt.plot(history.history['accuracy'], label='Training Accuracy')\n",
    "plt.plot(history.history['val_accuracy'], label='Validation Accuracy')\n",
    "plt.title('Model Accuracy')\n",
    "plt.ylabel('Accuracy')\n",
    "plt.xlabel('Epoch')\n",
    "plt.legend()\n",
    "plt.show()"
   ]
  },
  {
   "cell_type": "markdown",
   "id": "ec54f170",
   "metadata": {},
   "source": [
    "- Test Loss: 1.361276281386381e-05\n",
    "- Test MAE: 0.00017246973584406078\n",
    "- Test Accuracy: 0.0010945009998977184 (Accuracies apt for the classification task but this implementation is regression task)\n",
    "- Mean Squared Error: 1.3612776140645046e-05\n",
    "\n",
    "These caculated in the test the model step only."
   ]
  },
  {
   "cell_type": "markdown",
   "id": "d1dc39b8",
   "metadata": {},
   "source": [
    "- Since this implementation a regression task, not the classification task, so we cann't plot the confusion matrix but we have created three classes of Low, Medium, High threshold with the given data and plotted but only for classification task's only confusion matric possible.\n",
    "- Metrics like accuracy, precision, recall, F1 Score are possible for classification tasks only but here we created low, medium, high categories of threshold with the given data and calculated"
   ]
  },
  {
   "cell_type": "code",
   "execution_count": 29,
   "id": "0c0fdf5f",
   "metadata": {},
   "outputs": [
    {
     "name": "stdout",
     "output_type": "stream",
     "text": [
      "              precision    recall  f1-score   support\n",
      "\n",
      "         Low       1.00      1.00      1.00    147099\n",
      "      Medium       0.00      0.00      0.00         0\n",
      "        High       0.00      0.00      0.00         0\n",
      "\n",
      "   micro avg       1.00      1.00      1.00    147099\n",
      "   macro avg       0.33      0.33      0.33    147099\n",
      "weighted avg       1.00      1.00      1.00    147099\n",
      "\n"
     ]
    },
    {
     "name": "stderr",
     "output_type": "stream",
     "text": [
      "/home/samara/anaconda3/lib/python3.11/site-packages/sklearn/metrics/_classification.py:1509: UndefinedMetricWarning: Precision is ill-defined and being set to 0.0 in labels with no predicted samples. Use `zero_division` parameter to control this behavior.\n",
      "  _warn_prf(average, modifier, f\"{metric.capitalize()} is\", len(result))\n",
      "/home/samara/anaconda3/lib/python3.11/site-packages/sklearn/metrics/_classification.py:1509: UndefinedMetricWarning: Recall is ill-defined and being set to 0.0 in labels with no true samples. Use `zero_division` parameter to control this behavior.\n",
      "  _warn_prf(average, modifier, f\"{metric.capitalize()} is\", len(result))\n",
      "/home/samara/anaconda3/lib/python3.11/site-packages/sklearn/metrics/_classification.py:1509: UndefinedMetricWarning: F-score is ill-defined and being set to 0.0 in labels with no true nor predicted samples. Use `zero_division` parameter to control this behavior.\n",
      "  _warn_prf(average, modifier, f\"{metric.capitalize()} is\", len(result))\n",
      "/home/samara/anaconda3/lib/python3.11/site-packages/sklearn/metrics/_classification.py:1509: UndefinedMetricWarning: Precision is ill-defined and being set to 0.0 in labels with no predicted samples. Use `zero_division` parameter to control this behavior.\n",
      "  _warn_prf(average, modifier, f\"{metric.capitalize()} is\", len(result))\n",
      "/home/samara/anaconda3/lib/python3.11/site-packages/sklearn/metrics/_classification.py:1509: UndefinedMetricWarning: Recall is ill-defined and being set to 0.0 in labels with no true samples. Use `zero_division` parameter to control this behavior.\n",
      "  _warn_prf(average, modifier, f\"{metric.capitalize()} is\", len(result))\n",
      "/home/samara/anaconda3/lib/python3.11/site-packages/sklearn/metrics/_classification.py:1509: UndefinedMetricWarning: F-score is ill-defined and being set to 0.0 in labels with no true nor predicted samples. Use `zero_division` parameter to control this behavior.\n",
      "  _warn_prf(average, modifier, f\"{metric.capitalize()} is\", len(result))\n",
      "/home/samara/anaconda3/lib/python3.11/site-packages/sklearn/metrics/_classification.py:1509: UndefinedMetricWarning: Precision is ill-defined and being set to 0.0 in labels with no predicted samples. Use `zero_division` parameter to control this behavior.\n",
      "  _warn_prf(average, modifier, f\"{metric.capitalize()} is\", len(result))\n",
      "/home/samara/anaconda3/lib/python3.11/site-packages/sklearn/metrics/_classification.py:1509: UndefinedMetricWarning: Recall is ill-defined and being set to 0.0 in labels with no true samples. Use `zero_division` parameter to control this behavior.\n",
      "  _warn_prf(average, modifier, f\"{metric.capitalize()} is\", len(result))\n",
      "/home/samara/anaconda3/lib/python3.11/site-packages/sklearn/metrics/_classification.py:1509: UndefinedMetricWarning: F-score is ill-defined and being set to 0.0 in labels with no true nor predicted samples. Use `zero_division` parameter to control this behavior.\n",
      "  _warn_prf(average, modifier, f\"{metric.capitalize()} is\", len(result))\n"
     ]
    },
    {
     "data": {
      "image/png": "[encoded data removed]",
      "text/plain": [
       "<Figure size 800x600 with 2 Axes>"
      ]
     },
     "metadata": {},
     "output_type": "display_data"
    }
   ],
   "source": [
    "import numpy as np\n",
    "import matplotlib.pyplot as plt\n",
    "from sklearn.metrics import classification_report, confusion_matrix\n",
    "import seaborn as sns\n",
    "\n",
    "# Define thresholds for classification\n",
    "thresholds = [0, 10, 20]  \n",
    "labels = ['Low', 'Medium', 'High']\n",
    "\n",
    "# Create categories based on thresholds\n",
    "y_test_categories = np.digitize(y_test, thresholds) - 1  \n",
    "y_pred_categories = np.digitize(y_pred, thresholds) - 1  \n",
    "\n",
    "# Ensure categories are in the correct range\n",
    "y_test_categories = np.clip(y_test_categories, 0, len(labels) - 1)\n",
    "y_pred_categories = np.clip(y_pred_categories, 0, len(labels) - 1)\n",
    "\n",
    "# Generate classification report\n",
    "report = classification_report(y_test_categories, y_pred_categories, target_names=labels, labels=range(len(labels)))\n",
    "print(report)\n",
    "\n",
    "# Generate confusion matrix\n",
    "conf_matrix = confusion_matrix(y_test_categories, y_pred_categories, labels=range(len(labels)))\n",
    "\n",
    "# Plotting the confusion matrix\n",
    "plt.figure(figsize=(8, 6))\n",
    "sns.heatmap(conf_matrix, annot=True, fmt='d', cmap='Blues', \n",
    "            xticklabels=labels, yticklabels=labels)\n",
    "plt.xlabel('Predicted')\n",
    "plt.ylabel('True')\n",
    "plt.title('Confusion Matrix')\n",
    "plt.show()\n"
   ]
  },
  {
   "cell_type": "markdown",
   "id": "RcDDQlfbZQ7E",
   "metadata": {
    "id": "RcDDQlfbZQ7E"
   },
   "source": [
    "### NOTE\n",
    "\n",
    "\n",
    "All Late Submissions will incur a <b>penalty of -2 marks </b>. So submit your assignments on time.\n",
    "\n",
    "Good Luck"
   ]
  }
 ],
 "metadata": {
  "colab": {
   "provenance": []
  },
  "hide_input": false,
  "kernelspec": {
   "display_name": "Python 3 (ipykernel)",
   "language": "python",
   "name": "python3"
  },
  "language_info": {
   "codemirror_mode": {
    "name": "ipython",
    "version": 3
   },
   "file_extension": ".py",
   "mimetype": "text/x-python",
   "name": "python",
   "nbconvert_exporter": "python",
   "pygments_lexer": "ipython3",
   "version": "3.11.5"
  },
  "nbTranslate": {
   "displayLangs": [
    "*"
   ],
   "hotkey": "alt-t",
   "langInMainMenu": true,
   "sourceLang": "en",
   "targetLang": "fr",
   "useGoogleTranslate": true
  },
  "toc": {
   "base_numbering": 1,
   "nav_menu": {},
   "number_sections": true,
   "sideBar": true,
   "skip_h1_title": false,
   "title_cell": "Table of Contents",
   "title_sidebar": "Contents",
   "toc_cell": false,
   "toc_position": {},
   "toc_section_display": true,
   "toc_window_display": false
  },
  "varInspector": {
   "cols": {
    "lenName": 16,
    "lenType": 16,
    "lenVar": 40
   },
   "kernels_config": {
    "python": {
     "delete_cmd_postfix": "",
     "delete_cmd_prefix": "del ",
     "library": "var_list.py",
     "varRefreshCmd": "print(var_dic_list())"
    },
    "r": {
     "delete_cmd_postfix": ") ",
     "delete_cmd_prefix": "rm(",
     "library": "var_list.r",
     "varRefreshCmd": "cat(var_dic_list()) "
    }
   },
   "types_to_exclude": [
    "module",
    "function",
    "builtin_function_or_method",
    "instance",
    "_Feature"
   ],
   "window_display": false
  }
 },
 "nbformat": 4,
 "nbformat_minor": 5
}
