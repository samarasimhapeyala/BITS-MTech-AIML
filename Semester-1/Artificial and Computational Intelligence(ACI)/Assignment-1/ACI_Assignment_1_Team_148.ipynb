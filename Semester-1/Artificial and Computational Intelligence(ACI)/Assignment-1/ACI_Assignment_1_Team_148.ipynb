{
  "cells": [
    {
      "cell_type": "markdown",
      "metadata": {
        "id": "MzZ4dJQYF7sH"
      },
      "source": [
        "# Artificial and Computational Intelligence Assignment 1"
      ]
    },
    {
      "cell_type": "markdown",
      "metadata": {
        "id": "Fxb1aE9zF7sK"
      },
      "source": [
        "## Problem solving by Uninformed & Informed Search"
      ]
    },
    {
      "cell_type": "markdown",
      "metadata": {
        "id": "h35jIBbCF7sK"
      },
      "source": [
        "List only the BITS (Name) of active contributors in this assignment:\n",
        "1. 2023aa05195 - Viswanath Hemanth Chadalawada\n",
        "2. 2023aa05072 - Peyala Samarasimha Reddy\n",
        "3. 2023aa05152 - Shruthi S Kumar\n",
        "4. 2023aa05930 - Sridhar K\n",
        "5. 2023aa05229 - POLAVARAPU SATYA DURGA LALITHA RAO SARMA"
      ]
    },
    {
      "cell_type": "markdown",
      "metadata": {
        "id": "pt5ygv_zF7sL"
      },
      "source": [
        "Things to follow\n",
        "1.\tUse appropriate data structures to represent the graph and the path using python libraries\n",
        "2.\tProvide proper documentation\n",
        "3.\tFind the path and print it"
      ]
    },
    {
      "cell_type": "markdown",
      "metadata": {
        "id": "wZfop5ElF7sL"
      },
      "source": [
        "Coding begins here"
      ]
    },
    {
      "cell_type": "markdown",
      "metadata": {
        "id": "IL0QDMy3F7sL"
      },
      "source": [
        "### 1.\tDefine the environment in the following block"
      ]
    },
    {
      "cell_type": "markdown",
      "metadata": {
        "id": "RYwJPNLIF7sM"
      },
      "source": [
        "List the PEAS decription of the problem here in this markdown block"
      ]
    },
    {
      "cell_type": "markdown",
      "metadata": {
        "id": "XJ3cHp1IF7sM"
      },
      "source": [
        "Design the agent as PSA Agent(Problem Solving Agent)\n",
        "Clear Initial data structures to define the graph and variable declarations is expected\n",
        "IMPORTATANT: Write distinct code block as below"
      ]
    },
    {
      "cell_type": "code",
      "execution_count": 1,
      "metadata": {
        "id": "XODwoWZ0F7sO"
      },
      "outputs": [],
      "source": [
        "# Code Block : Set the matrix for transition & cost (as relevant for the given problem)\n",
        "graph = {'A': [('B', 5), ('C', 8)],\n",
        "         'B': [('A', 5), ('C', 7), ('D', 6), ('E', 10), ('H', 8)],\n",
        "         'C': [('A', 8), ('B', 7), ('F', 12)],\n",
        "         'D': [('B', 6), ('H', 10)],\n",
        "         'E': [('B', 10), ('F', 9), ('H', 18)],\n",
        "         'F': [('C', 12), ('E', 9)]}\n",
        "\n",
        "goal_state = 'H'\n",
        "visited = {'H': False}"
      ]
    },
    {
      "cell_type": "code",
      "execution_count": 2,
      "metadata": {
        "id": "osp61RsLF7sN"
      },
      "outputs": [],
      "source": [
        "# Code Block : Set Initial State (Must handle dynamic inputs)\n",
        "unvisited = set(graph.keys())\n",
        "for g in graph.keys():\n",
        "    visited[g] = False"
      ]
    },
    {
      "cell_type": "code",
      "source": [
        "# Minimum path and cost between 2 nodes\n",
        "import time\n",
        "\n",
        "path = []\n",
        "\n",
        "\n",
        "def initialize():\n",
        "    global all_paths\n",
        "    all_paths = []\n",
        "    global all_costs\n",
        "    all_costs = []\n",
        "\n",
        "\n",
        "# function to compute minimum cost between 2 nodes\n",
        "def compute_min_cost(src, dest):\n",
        "    initialize()\n",
        "    find_all_paths(src, dest, visited, path)\n",
        "    min_index = all_costs.index(min(all_costs)) # find index of the minimum cost among costs os all paths\n",
        "    return all_costs[min_index]\n",
        "\n",
        "\n",
        "def find_all_paths(u, d, visited, path): # function to compute all paths that exist between 2 nodes\n",
        "    visited[u] = True\n",
        "    path.append(u)\n",
        "    if u == d:\n",
        "        # print(path)\n",
        "        cur_path = path.copy()\n",
        "        all_paths.append(cur_path)\n",
        "        final_cost = compute_pathcost(path)\n",
        "        # print(final_cost)\n",
        "        all_costs.append(final_cost)\n",
        "    if u == 'H':\n",
        "        pass # No more child nodes\n",
        "    else:\n",
        "        # Continue until all child nodes are travered (leaf nodes)\n",
        "        for (m, weight) in graph[u]:\n",
        "            if visited[m] == False:\n",
        "                find_all_paths(m, d, visited, path)\n",
        "    path.pop()\n",
        "    visited[u] = False\n",
        "\n",
        "\n",
        "# function to fetch path cost between 2 nodes from the graph\n",
        "def get_cost(s, d):\n",
        "    src = s\n",
        "    dest = d\n",
        "    for i in range(len(graph[src])):\n",
        "        if graph[src][i][0] == dest:\n",
        "            return graph[src][i][1]\n",
        "\n",
        "\n",
        "# function to compute total path cost between 2 nodes with intermediate nodes\n",
        "def compute_pathcost(path):\n",
        "    pathcost = 0\n",
        "    for i in range(1, len(path)):\n",
        "        num = get_cost(path[i - 1], path[i])\n",
        "        pathcost += num\n",
        "    return pathcost\n",
        "\n",
        "\n",
        "# Build Minimum cost graph\n",
        "min_cost_graph = {}\n",
        "open_set = []\n",
        "for i in graph.keys():\n",
        "    open_set.append(i)\n",
        "for i in open_set:\n",
        "    min_cost_graph[i] = []\n",
        "    for j in open_set:\n",
        "        min_cost = compute_min_cost(i, j)\n",
        "        min_cost_graph[i] += [[j, min_cost]]\n",
        "    j = 'H'  # Computing Cost for H as well since it is not a part of graph and is a leaf node\n",
        "    min_cost = compute_min_cost(i, j)\n",
        "    min_cost_graph[i] += [[j, min_cost]]\n",
        "\n",
        "# Populating values for H as well\n",
        "H = []\n",
        "for k, v in min_cost_graph.items():\n",
        "    H.append([k, v[-1][1]])\n",
        "\n",
        "min_cost_graph['H'] = H\n",
        "for k, v in min_cost_graph.items():\n",
        "    print(k, v)\n",
        "\n",
        "\n",
        "# Heuristic Function for A*\n",
        "def compute_heuristic(node, unv):\n",
        "    sum = 0\n",
        "    # Continue until all unvisited nodes have been considered\n",
        "    for j in unv:\n",
        "        for i in range(len(min_cost_graph[node])):\n",
        "            temp = min_cost_graph[node][i][0]\n",
        "            if temp == j:\n",
        "                sum += min_cost_graph[node][i][1]\n",
        "                break\n",
        "    return round(sum / len(unv), 3) # returns average path costs of all paths from current node to unvisited\n",
        "\n",
        "\n",
        "# Returns all the neighbors of a given noe by looking into the graph\n",
        "def get_neighbors(v):\n",
        "    if v in graph:\n",
        "        return graph[v]\n",
        "    else:\n",
        "        return None\n",
        "\n",
        "\n",
        "# compute_heuristic('A',['B','D','H']) - Example 1\n",
        "compute_heuristic('C', ['A', 'D', 'E', 'F']) # Example 2"
      ],
      "metadata": {
        "id": "04rwYD1FwZq9",
        "colab": {
          "base_uri": "https://localhost:8080/"
        },
        "outputId": "b132c111-c0d9-4b8e-d411-eab3cab9b4fe"
      },
      "execution_count": 3,
      "outputs": [
        {
          "output_type": "stream",
          "name": "stdout",
          "text": [
            "A [['A', 0], ['B', 5], ['C', 8], ['D', 11], ['E', 15], ['F', 20], ['H', 13]]\n",
            "B [['A', 5], ['B', 0], ['C', 7], ['D', 6], ['E', 10], ['F', 19], ['H', 8]]\n",
            "C [['A', 8], ['B', 7], ['C', 0], ['D', 13], ['E', 17], ['F', 12], ['H', 15]]\n",
            "D [['A', 11], ['B', 6], ['C', 13], ['D', 0], ['E', 16], ['F', 25], ['H', 10]]\n",
            "E [['A', 15], ['B', 10], ['C', 17], ['D', 16], ['E', 0], ['F', 9], ['H', 18]]\n",
            "F [['A', 20], ['B', 19], ['C', 12], ['D', 25], ['E', 9], ['F', 0], ['H', 27]]\n",
            "H [['A', 13], ['B', 8], ['C', 15], ['D', 10], ['E', 18], ['F', 27]]\n"
          ]
        },
        {
          "output_type": "execute_result",
          "data": {
            "text/plain": [
              "12.5"
            ]
          },
          "metadata": {},
          "execution_count": 3
        }
      ]
    },
    {
      "cell_type": "markdown",
      "metadata": {
        "id": "Z4QwDeX5F7sO"
      },
      "source": [
        "### 2.\tDefinition of Algorithm 1 (A* Algorithm)"
      ]
    },
    {
      "cell_type": "code",
      "execution_count": 16,
      "metadata": {
        "id": "zD_EPCHWF7sO"
      },
      "outputs": [],
      "source": [
        "def a_star_algo(start_node, stop_node):\n",
        "    open_set = set(start_node)\n",
        "    closed_set = set()\n",
        "    g = {}  # Store distance from starting node\n",
        "    parents = {}  # Parents contains an adjacency map of all nodes\n",
        "    expanded_nodes = 0  # Counter for expanded nodes\n",
        "\n",
        "    # distance of starting node from itself is zero\n",
        "    g[start_node] = 0\n",
        "    # start_node is root node i.e it has no parent nodes\n",
        "    # so start_node is set to its own parent node\n",
        "    parents[start_node] = start_node\n",
        "\n",
        "    while len(open_set) > 0:\n",
        "        print(f\"{open_set=}\")\n",
        "        print(f\"{closed_set=}\")\n",
        "        n = None\n",
        "        # node with the lowest f() is found\n",
        "        for v in open_set:\n",
        "            if (n is None or g[v] + compute_heuristic(v, set(graph.keys()).difference(open_set)) < g[n] +\n",
        "                    compute_heuristic(n, set(graph.keys()).difference(open_set))):\n",
        "                n = v\n",
        "        if n == stop_node or graph[n] is None:\n",
        "            pass\n",
        "        else:\n",
        "            for (m, weight) in get_neighbors(n):\n",
        "                # nodes 'm' not in the first and last set are added to the first\n",
        "                # n is set as its parent\n",
        "                if m not in open_set and m not in closed_set:\n",
        "                    open_set.add(m)\n",
        "                    parents[m] = n\n",
        "                    g[m] = g[n] + weight\n",
        "                    expanded_nodes += 1  # Increment the counter for expanded nodes\n",
        "                # for each node m, compare its distance from start i.e g(m) to the\n",
        "                # from start through the n node\n",
        "                else:\n",
        "                    if g[m] > g[n] + weight:\n",
        "                        # update g(m)\n",
        "                        g[m] = g[n] + weight\n",
        "                        # change the parent of m to n\n",
        "                        parents[m] = n\n",
        "                        # if m in closed set, remove and add to open\n",
        "                        if m in closed_set:\n",
        "                            closed_set.remove(m)\n",
        "                            open_set.add(m)\n",
        "\n",
        "        if n is None:\n",
        "            print('Path does not exist!')\n",
        "            return None\n",
        "\n",
        "        # if the current node is the stop_node\n",
        "        # then we begin reconstructing the path from it to the start_node\n",
        "        if n == stop_node:\n",
        "            path = []\n",
        "            while parents[n] != n:\n",
        "                path.append(n)\n",
        "                n = parents[n]\n",
        "            path.append(start_node)\n",
        "            path.reverse()\n",
        "            path_cost = compute_pathcost(path)\n",
        "            return path, path_cost, expanded_nodes\n",
        "\n",
        "        # remove n from the open_list, and add it to closed_list\n",
        "        # because all of its neighbors were inspected\n",
        "        open_set.remove(n)\n",
        "        closed_set.add(n)\n",
        "\n",
        "    print('Path does not exist!')\n",
        "    return None\n"
      ]
    },
    {
      "cell_type": "markdown",
      "metadata": {
        "id": "KnbdDl6HF7sO"
      },
      "source": [
        "### 3.\tDefinition of Algorithm 2 (Hill Climbing Algorithm)"
      ]
    },
    {
      "cell_type": "code",
      "source": [
        "def hill_climbing_search(start, goal, graph):\n",
        "    # Initialize the current node and path with the starting node\n",
        "    current_node = start\n",
        "    path = [current_node]\n",
        "    total_cost = 0\n",
        "    expanded_nodes = 0  # Counter for expanded nodes\n",
        "\n",
        "    # Continue until the current node reaches the goal\n",
        "    while current_node != goal:\n",
        "        # Get neighbors of the current node and sort them based on heuristic\n",
        "        neighbors = graph[current_node]\n",
        "        neighbor_costs = [(neighbor, cost) for neighbor, cost in neighbors]\n",
        "        neighbor_costs.sort(key=lambda x: compute_heuristic(x[0], set(graph.keys()).difference(set(path))))\n",
        "\n",
        "        # Choose the neighbor with the lowest heuristic as the next node\n",
        "        next_node, next_cost = neighbor_costs[0]\n",
        "\n",
        "        # Update the path and total cost\n",
        "        path.append(next_node)\n",
        "        total_cost += next_cost\n",
        "        current_node = next_node\n",
        "\n",
        "        # Increment the counter for expanded nodes\n",
        "        expanded_nodes += 1\n",
        "        print(f\"{neighbors=}\")\n",
        "        # Check for a local minimum and break the loop if found\n",
        "        if compute_heuristic(next_node, set(graph.keys()).difference(set(path))) >= compute_heuristic(current_node, set(graph.keys()).difference(set(path))):\n",
        "            # Append the goal to the path and calculate the cost\n",
        "            path.append(goal)\n",
        "            neighbors = graph[current_node]\n",
        "            neighbor_costs = graph[current_node]\n",
        "            for i in neighbor_costs:\n",
        "              expanded_nodes += 1\n",
        "              if i[0] == goal:\n",
        "                  total_cost += i[1]\n",
        "\n",
        "            print(f'{neighbors=}')\n",
        "            break\n",
        "\n",
        "    return path, total_cost, expanded_nodes\n"
      ],
      "metadata": {
        "id": "BsYAv9OV8MUs"
      },
      "execution_count": 13,
      "outputs": []
    },
    {
      "cell_type": "markdown",
      "metadata": {
        "id": "LEV2XHccF7sP"
      },
      "source": [
        "### DYNAMIC INPUT"
      ]
    },
    {
      "cell_type": "markdown",
      "metadata": {
        "id": "CylYRo_DF7sP"
      },
      "source": [
        "IMPORTANT : Dynamic Input must be got in this section. Display the possible states to choose from:\n",
        "This is applicable for all the relevent problems as mentioned in the question."
      ]
    },
    {
      "cell_type": "code",
      "execution_count": 6,
      "metadata": {
        "id": "Q5t1Lc-wF7sP",
        "colab": {
          "base_uri": "https://localhost:8080/"
        },
        "outputId": "86955124-e889-4e84-c939-83669bed5077"
      },
      "outputs": [
        {
          "name": "stdout",
          "output_type": "stream",
          "text": [
            "Select a node from the available nodes: A,B,C,D,E,F \n",
            "D\n"
          ]
        }
      ],
      "source": [
        "#Code Block : Function & call to get inputs (start/end state)\n",
        "nodes_in_graph = ','.join(list(graph.keys()))\n",
        "while(1):\n",
        "  start_node = input(f\"Select a node from the available nodes: {nodes_in_graph} \\n\")\n",
        "  if start_node in graph.keys():\n",
        "    break\n",
        "  else:\n",
        "    print(\"Please select only from the available nodes\")\n",
        "goal_node = 'H'"
      ]
    },
    {
      "cell_type": "markdown",
      "metadata": {
        "id": "xsfOP81lF7sP"
      },
      "source": [
        "### 4.\tCalling the search algorithms\n",
        "(For bidirectional search in below sections first part can be used as per Hint provided. Under second section other combinations as per Hint or your choice of 2 algorithms can be called .As an analyst suggest suitable approximation in the comparitive analysis section)"
      ]
    },
    {
      "cell_type": "code",
      "execution_count": 7,
      "metadata": {
        "id": "Og5zI9thF7sP",
        "colab": {
          "base_uri": "https://localhost:8080/"
        },
        "outputId": "38e37d26-8698-4ba3-a8ba-a5556faeae19"
      },
      "outputs": [
        {
          "output_type": "stream",
          "name": "stdout",
          "text": [
            "Given Graph:\n",
            "A [('B', 5), ('C', 8)]\n",
            "B [('A', 5), ('C', 7), ('D', 6), ('E', 10), ('H', 8)]\n",
            "C [('A', 8), ('B', 7), ('F', 12)]\n",
            "D [('B', 6), ('H', 10)]\n",
            "E [('B', 10), ('F', 9), ('H', 18)]\n",
            "F [('C', 12), ('E', 9)]\n",
            "start_node='D'\n",
            "goal_node='H'\n",
            "open_set={'D'}\n",
            "closed_set=set()\n",
            "open_set={'H', 'B'}\n",
            "closed_set={'D'}\n",
            "open_set={'A', 'E', 'H', 'C'}\n",
            "closed_set={'B', 'D'}\n",
            "open_set={'E', 'H', 'C'}\n",
            "closed_set={'A', 'B', 'D'}\n",
            "open_set={'E', 'H', 'F'}\n",
            "closed_set={'A', 'C', 'B', 'D'}\n",
            "Optimal Path found:  ['D', 'H']\n",
            "Cost of the optimal path:  10\n"
          ]
        }
      ],
      "source": [
        "#Invoke algorithm 1 (Should Print the solution, path, cost etc., (As mentioned in the problem))\n",
        "print(\"Given Graph:\")\n",
        "for k,v in graph.items():\n",
        "  print(k,v)\n",
        "print(f\"{start_node=}\")\n",
        "print(f\"{goal_node=}\")\n",
        "a_star_start_time = time.time()\n",
        "astar_path, astar_cost, astar_nodes_expanded = a_star_algo(start_node, goal_node)\n",
        "a_star_start_end_time  = time.time()\n",
        "print(\"Optimal Path found: \", astar_path)\n",
        "print(\"Cost of the optimal path: \", astar_cost)"
      ]
    },
    {
      "cell_type": "code",
      "execution_count": 8,
      "metadata": {
        "id": "u3MJeA6eF7sP",
        "colab": {
          "base_uri": "https://localhost:8080/"
        },
        "outputId": "7b2cf859-4ac7-4568-9aaa-c621930744f2"
      },
      "outputs": [
        {
          "output_type": "stream",
          "name": "stdout",
          "text": [
            "Given Graph:\n",
            "A [('B', 5), ('C', 8)]\n",
            "B [('A', 5), ('C', 7), ('D', 6), ('E', 10), ('H', 8)]\n",
            "C [('A', 8), ('B', 7), ('F', 12)]\n",
            "D [('B', 6), ('H', 10)]\n",
            "E [('B', 10), ('F', 9), ('H', 18)]\n",
            "F [('C', 12), ('E', 9)]\n",
            "start_node='D'\n",
            "goal_node='H'\n",
            "neighbors=[('B', 6), ('H', 10)]\n",
            "neighbors=[('A', 5), ('C', 7), ('D', 6), ('E', 10), ('H', 8)]\n",
            "Optimal Path found:  ['D', 'B', 'H']\n",
            "Cost of the optimal path:  14\n"
          ]
        }
      ],
      "source": [
        "#Invoke algorithm 2 (Should Print the solution, path, cost etc., (As mentioned in the problem))\n",
        "print(\"Given Graph:\")\n",
        "for k,v in graph.items():\n",
        "  print(k,v)\n",
        "print(f\"{start_node=}\")\n",
        "print(f\"{goal_node=}\")\n",
        "hill_climb_start_time = time.time()\n",
        "hc_path, hc_cost, hc_nodes_expanded = hill_climbing_search(start_node, goal_node, graph)\n",
        "hill_climb_end_time  = time.time()\n",
        "print(\"Optimal Path found: \", hc_path)\n",
        "print(\"Cost of the optimal path: \", hc_cost)"
      ]
    },
    {
      "cell_type": "code",
      "source": [
        "print(\"Initial Graph:\")\n",
        "for k, v in graph.items():\n",
        "    print(k, v)\n",
        "\n",
        "print(\"Minimum Cost Graph Generated:\")\n",
        "for k, v in min_cost_graph.items():\n",
        "    print(k, v)"
      ],
      "metadata": {
        "colab": {
          "base_uri": "https://localhost:8080/"
        },
        "id": "iyCnxdc74754",
        "outputId": "aaf657da-54a4-4cf8-bd5f-9c3870c184f6"
      },
      "execution_count": 9,
      "outputs": [
        {
          "output_type": "stream",
          "name": "stdout",
          "text": [
            "Initial Graph:\n",
            "A [('B', 5), ('C', 8)]\n",
            "B [('A', 5), ('C', 7), ('D', 6), ('E', 10), ('H', 8)]\n",
            "C [('A', 8), ('B', 7), ('F', 12)]\n",
            "D [('B', 6), ('H', 10)]\n",
            "E [('B', 10), ('F', 9), ('H', 18)]\n",
            "F [('C', 12), ('E', 9)]\n",
            "Minimum Cost Graph Generated:\n",
            "A [['A', 0], ['B', 5], ['C', 8], ['D', 11], ['E', 15], ['F', 20], ['H', 13]]\n",
            "B [['A', 5], ['B', 0], ['C', 7], ['D', 6], ['E', 10], ['F', 19], ['H', 8]]\n",
            "C [['A', 8], ['B', 7], ['C', 0], ['D', 13], ['E', 17], ['F', 12], ['H', 15]]\n",
            "D [['A', 11], ['B', 6], ['C', 13], ['D', 0], ['E', 16], ['F', 25], ['H', 10]]\n",
            "E [['A', 15], ['B', 10], ['C', 17], ['D', 16], ['E', 0], ['F', 9], ['H', 18]]\n",
            "F [['A', 20], ['B', 19], ['C', 12], ['D', 25], ['E', 9], ['F', 0], ['H', 27]]\n",
            "H [['A', 13], ['B', 8], ['C', 15], ['D', 10], ['E', 18], ['F', 27]]\n"
          ]
        }
      ]
    },
    {
      "cell_type": "markdown",
      "metadata": {
        "id": "TOU3Rem6F7sQ"
      },
      "source": [
        "### 5.\tComparitive Analysis"
      ]
    },
    {
      "cell_type": "code",
      "execution_count": 14,
      "metadata": {
        "id": "HG6fWwiIF7sQ",
        "colab": {
          "base_uri": "https://localhost:8080/"
        },
        "outputId": "b93dc590-6eac-44bd-d37a-8d53612488fa"
      },
      "outputs": [
        {
          "output_type": "stream",
          "name": "stdout",
          "text": [
            "77.2 µs ± 1.43 µs per loop (mean ± std. dev. of 7 runs, 10000 loops each)\n",
            "Time Taken for A* to run: 0.0025370121002197266\n",
            "Space Complexity: Nodes Expanded for A*: 6\n"
          ]
        }
      ],
      "source": [
        "#Code Block : Print the Time & Space complexity of algorithm 1\n",
        "%timeit a_star_algo(start_node, 'H')\n",
        "print(f\"Time Taken for A* to run: {a_star_start_end_time - a_star_start_time}\")\n",
        "print(f\"Space Complexity: Nodes Expanded for A*: {astar_nodes_expanded}\")"
      ]
    },
    {
      "cell_type": "code",
      "execution_count": 15,
      "metadata": {
        "id": "xMButLKCF7sQ",
        "colab": {
          "base_uri": "https://localhost:8080/"
        },
        "outputId": "ee176ce8-dc6f-480c-f0a4-865213c30799"
      },
      "outputs": [
        {
          "output_type": "stream",
          "name": "stdout",
          "text": [
            "21.4 µs ± 648 ns per loop (mean ± std. dev. of 7 runs, 10000 loops each)\n",
            "Time Taken for Hill Climb to run: 0.0002410411834716797\n",
            "Space Complexity: Nodes Expanded for Hill Climb: 6\n"
          ]
        }
      ],
      "source": [
        "#Code Block : Print the Time & Space complexity of algorithm 2\n",
        "%timeit hill_climbing_search(start_node, 'H', graph)\n",
        "print(f\"Time Taken for Hill Climb to run: {hill_climb_end_time - hill_climb_start_time}\")\n",
        "print(f\"Space Complexity: Nodes Expanded for Hill Climb: {hc_nodes_expanded}\")"
      ]
    },
    {
      "cell_type": "markdown",
      "metadata": {
        "id": "y2nXwAlsF7sQ"
      },
      "source": [
        "### 6.\tProvide your comparitive analysis or findings in no more than 3 lines in below section"
      ]
    },
    {
      "cell_type": "markdown",
      "metadata": {
        "id": "si483-zoF7sQ"
      },
      "source": [
        "Comparison :\n",
        "- A* algorithm found the optimal path with a lower cost compared to the Hill Climbing algorithm.\n",
        "- A* algorithm took more time to run compared to the Hill Climbing algorithm.\n",
        "- Hill Climbing algorithm is a good choice when the goal is to find a good solution quickly, even if it is not necessarily the optimal solution."
      ]
    }
  ],
  "metadata": {
    "kernelspec": {
      "display_name": "Python 3",
      "language": "python",
      "name": "python3"
    },
    "language_info": {
      "codemirror_mode": {
        "name": "ipython",
        "version": 3
      },
      "file_extension": ".py",
      "mimetype": "text/x-python",
      "name": "python",
      "nbconvert_exporter": "python",
      "pygments_lexer": "ipython3",
      "version": "3.7.6"
    },
    "colab": {
      "provenance": []
    }
  },
  "nbformat": 4,
  "nbformat_minor": 0
}