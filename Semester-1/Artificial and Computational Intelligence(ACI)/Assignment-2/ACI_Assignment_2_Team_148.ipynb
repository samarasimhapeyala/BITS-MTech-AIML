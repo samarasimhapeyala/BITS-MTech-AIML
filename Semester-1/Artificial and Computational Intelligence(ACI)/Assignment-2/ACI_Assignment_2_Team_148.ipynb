{
  "cells": [
    {
      "cell_type": "markdown",
      "id": "349b329b",
      "metadata": {
        "id": "349b329b"
      },
      "source": [
        "## Artificial and Computational Intelligence Assignment 2"
      ]
    },
    {
      "cell_type": "markdown",
      "id": "ef73df95",
      "metadata": {
        "id": "ef73df95"
      },
      "source": [
        "## Gaming with Min-Max Algorithm - Solution"
      ]
    },
    {
      "cell_type": "markdown",
      "id": "135a6db2",
      "metadata": {
        "id": "135a6db2"
      },
      "source": [
        "### List only the BITS (Name) of active contributors in this assignment:\n",
        "1. 2023aa05152 - Shruti S Kumar\n",
        "2. 2023aa05072 - Peyala Samarasimha Reddy\n",
        "3. 2023aa05195 - Viswanath Hemanth Chadalawada\n",
        "4. 2023aa05229 - POLAVARAPU SATYA DURGA LALITHA RAO SARMA\n",
        "5. 2023aa05930 - Sridhar K"
      ]
    },
    {
      "cell_type": "markdown",
      "id": "d6f97bd9",
      "metadata": {
        "id": "d6f97bd9"
      },
      "source": [
        "# Things to follow\n",
        "\n",
        "1. Use appropriate data structures to represent the graph using python libraries\n",
        "2. Provide proper documentation\n",
        "3. Create neat solution without error during game playing"
      ]
    },
    {
      "cell_type": "markdown",
      "id": "9c8fc7c1",
      "metadata": {
        "id": "9c8fc7c1"
      },
      "source": [
        "### Coding begins here"
      ]
    },
    {
      "cell_type": "markdown",
      "id": "ae16f9ad",
      "metadata": {
        "id": "ae16f9ad"
      },
      "source": [
        "### PEAS - Data structures and fringes that define the Agent environment goes here"
      ]
    },
    {
      "cell_type": "code",
      "execution_count": 2,
      "id": "1e1e1546",
      "metadata": {
        "id": "1e1e1546"
      },
      "outputs": [],
      "source": [
        "#Code block\n",
        "import random\n",
        "\n",
        "best_choices = []\n",
        "possible_choices = []\n",
        "numbers = []"
      ]
    },
    {
      "cell_type": "markdown",
      "id": "979b8c3b",
      "metadata": {
        "id": "979b8c3b"
      },
      "source": [
        "### Implementation of the Min-Max algorithm"
      ]
    },
    {
      "cell_type": "code",
      "execution_count": 3,
      "id": "3e2fd5c8",
      "metadata": {
        "id": "3e2fd5c8"
      },
      "outputs": [],
      "source": [
        "def minmax(numbers, p1_score, p2_score, maximizingPlayer):\n",
        "  if not numbers:\n",
        "    # return p1_score - p2_score, []\n",
        "    return static_eval_func(p1_score, p2_score), []\n",
        "\n",
        "  if maximizingPlayer:\n",
        "    max_score = float('-inf')\n",
        "    best_choices = []\n",
        "    for choice in get_possible_choices(numbers, p1_score):\n",
        "      new_numbers = numbers[:]\n",
        "      for num in choice:\n",
        "        new_numbers.remove(num)\n",
        "      score, _ = minmax(new_numbers, p1_score + sum(choice), p2_score, False) # recursively calls minmax to find all possible options\n",
        "\n",
        "      if score > max_score:\n",
        "        max_score = score\n",
        "        best_choices = choice\n",
        "    return max_score, best_choices\n",
        "\n",
        "  else:\n",
        "    min_score = float('inf')\n",
        "    best_choices = []\n",
        "    for choice in get_possible_choices(numbers, p2_score):\n",
        "      new_numbers = numbers[:]\n",
        "      for num in choice:\n",
        "        new_numbers.remove(num)\n",
        "      score, _ = minmax(new_numbers, p1_score, p2_score + sum(choice), True)\n",
        "      if score < min_score:\n",
        "        min_score = score\n",
        "        best_choices = choice\n",
        "    return min_score, best_choices"
      ]
    },
    {
      "cell_type": "markdown",
      "id": "71d82f98",
      "metadata": {
        "id": "71d82f98"
      },
      "source": [
        "### Implementation of the alpha-beta pruning  "
      ]
    },
    {
      "cell_type": "code",
      "execution_count": 4,
      "id": "7f807ef3",
      "metadata": {
        "id": "7f807ef3"
      },
      "outputs": [],
      "source": [
        "#Code block\n",
        "# Excluded since it's optional and not mentioned in the Problem Statement along with % marks"
      ]
    },
    {
      "cell_type": "markdown",
      "id": "c158f4a2",
      "metadata": {
        "id": "c158f4a2"
      },
      "source": [
        "### Choice and implementation of the Static Evaluation Function."
      ]
    },
    {
      "cell_type": "code",
      "source": [
        "def static_eval_func(p1_score, p2_score):\n",
        "  # Compute the difference between Player 1 score & Player 2 score\n",
        "  return p1_score - p2_score"
      ],
      "metadata": {
        "id": "vvHhIXYaAsfF"
      },
      "id": "vvHhIXYaAsfF",
      "execution_count": 5,
      "outputs": []
    },
    {
      "cell_type": "code",
      "execution_count": 6,
      "id": "ad3cab97",
      "metadata": {
        "id": "ad3cab97"
      },
      "outputs": [],
      "source": [
        "#Code Block\n",
        "def get_possible_choices(numbers, opponent_score):\n",
        "  possible_choices = []\n",
        "  for i in range(len(numbers)):\n",
        "    for j in range(i + 1, len(numbers) + 1):\n",
        "      subset = numbers[i:j]\n",
        "      if sum(subset[:i]) < opponent_score and sum(subset) >= opponent_score:\n",
        "        possible_choices.append(subset)\n",
        "  return possible_choices\n",
        "\n",
        "def play_catch_up(n, player1_is_user=True):\n",
        "  numbers = list(range(1, n + 1))\n",
        "  print(\"Available numbers to choose:\",numbers)\n",
        "  random.shuffle(numbers)  # Shuffle the numbers to simulate random selection\n",
        "  p1_score = numbers.pop(0)  # P1 chooses one of the numbers randomly\n",
        "  p2_score = 0\n",
        "  print(\"Player 1's initial score:\",p1_score)\n",
        "  print(\"Player 2's initial score:\",p2_score)\n",
        "\n",
        "  while numbers:\n",
        "    possible_choices = get_possible_choices(numbers, p1_score)\n",
        "    if len(possible_choices) == 0: # Check if no more choices are left for P2\n",
        "      break\n",
        "    else:\n",
        "      print(\"\\nPossible choices for Player 2:\",possible_choices)\n",
        "      p2_choices = random.choice(possible_choices)\n",
        "      print(\"Player 2's choice:\",p2_choices)\n",
        "      for choice in p2_choices:\n",
        "        numbers.remove(choice)\n",
        "        p2_score += choice\n",
        "      print(\"Player 1's current score:\",p1_score)\n",
        "      print(\"Player 2's current score:\",p2_score)\n",
        "    if not numbers:\n",
        "      break\n",
        "\n",
        "    # Interactive Implementation where User is Player 1\n",
        "    if player1_is_user:\n",
        "      print(\"\\nUSER INPUT!\")\n",
        "      print(\"Available numbers:\", numbers)\n",
        "      while True:\n",
        "        user_choice = input(\"\\nPlayer 1, enter your choice: \")\n",
        "        try:\n",
        "          user_choice = int(user_choice)\n",
        "          if user_choice in numbers:\n",
        "            break\n",
        "          else:\n",
        "            print(\"Invalid choice. Please select a number from the available numbers.\")\n",
        "        except ValueError:\n",
        "          print(\"Invalid input. Please enter a valid number.\")\n",
        "      p1_choices = [int(x) for x in str(user_choice)]\n",
        "\n",
        "    # P1's turn with Minmax algorithm\n",
        "    else:\n",
        "      best_score, p1_choices = minmax(numbers, p1_score, p2_score, True)\n",
        "\n",
        "      print(\"\\nPossible choices for Player 1:\",p1_choices)\n",
        "    p1_score += sum(p1_choices)\n",
        "    for choice in p1_choices:\n",
        "      numbers.remove(choice)\n",
        "    if not numbers:\n",
        "      break\n",
        "\n",
        "  # Determine the winner\n",
        "  print(\"\\nEnd of the game...\")\n",
        "  if p1_score > p2_score:\n",
        "    print(\"Player 1's final score:\",p1_score)\n",
        "    print(\"Player 2's final score:\",p2_score)\n",
        "    return \"Player 1 wins\"\n",
        "  elif p2_score > p1_score:\n",
        "    print(\"Player 1's final score:\",p1_score)\n",
        "    print(\"Player 2's final score:\",p2_score)\n",
        "    return \"Player 2 wins\"\n",
        "  else:\n",
        "    print(\"Player 1's final score:\",p1_score)\n",
        "    print(\"Player 2's final score:\",p2_score)\n",
        "    return \"It is a tie\""
      ]
    },
    {
      "cell_type": "code",
      "execution_count": 7,
      "id": "3a68e508",
      "metadata": {
        "id": "3a68e508",
        "colab": {
          "base_uri": "https://localhost:8080/"
        },
        "outputId": "a71c5786-f7a4-4c5a-b646-fadeddceccb4"
      },
      "outputs": [
        {
          "output_type": "stream",
          "name": "stdout",
          "text": [
            "Please enter a natural number:6\n",
            "Available numbers to choose: [1, 2, 3, 4, 5, 6]\n",
            "Player 1's initial score: 4\n",
            "Player 2's initial score: 0\n",
            "\n",
            "Possible choices for Player 2: [[3, 6], [3, 6, 2], [3, 6, 2, 1], [3, 6, 2, 1, 5], [2, 1, 5]]\n",
            "Player 2's choice: [3, 6, 2, 1]\n",
            "Player 1's current score: 4\n",
            "Player 2's current score: 12\n",
            "\n",
            "USER INPUT!\n",
            "Available numbers: [5]\n",
            "\n",
            "Player 1, enter your choice: 5\n",
            "\n",
            "End of the game...\n",
            "Player 1's final score: 9\n",
            "Player 2's final score: 12\n",
            "Player 2 wins\n"
          ]
        }
      ],
      "source": [
        "#Code block - Start the game\n",
        "\n",
        "n = int(input(\"Please enter a natural number:\"))  # Number of natural numbers\n",
        "print(play_catch_up(n, player1_is_user=True))"
      ]
    },
    {
      "cell_type": "code",
      "source": [],
      "metadata": {
        "id": "R4lXzhWXHrC4"
      },
      "id": "R4lXzhWXHrC4",
      "execution_count": null,
      "outputs": []
    }
  ],
  "metadata": {
    "kernelspec": {
      "display_name": "Python 3",
      "language": "python",
      "name": "python3"
    },
    "language_info": {
      "codemirror_mode": {
        "name": "ipython",
        "version": 3
      },
      "file_extension": ".py",
      "mimetype": "text/x-python",
      "name": "python",
      "nbconvert_exporter": "python",
      "pygments_lexer": "ipython3",
      "version": "3.8.8"
    },
    "colab": {
      "provenance": []
    }
  },
  "nbformat": 4,
  "nbformat_minor": 5
}